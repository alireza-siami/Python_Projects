{
  "nbformat": 4,
  "nbformat_minor": 0,
  "metadata": {
    "colab": {
      "provenance": [],
      "toc_visible": true,
      "authorship_tag": "ABX9TyNSH3brI48QoJK/H8liXdWE",
      "include_colab_link": true
    },
    "kernelspec": {
      "name": "python3",
      "display_name": "Python 3"
    },
    "language_info": {
      "name": "python"
    }
  },
  "cells": [
    {
      "cell_type": "markdown",
      "metadata": {
        "id": "view-in-github",
        "colab_type": "text"
      },
      "source": [
        "<a href=\"https://colab.research.google.com/github/alireza-siami/Python_Projects/blob/DATAQUEST's-Projects/Profitable_App_Profiles_for_the_App_Store_and_Google_Play_Market.ipynb\" target=\"_parent\"><img src=\"https://colab.research.google.com/assets/colab-badge.svg\" alt=\"Open In Colab\"/></a>"
      ]
    },
    {
      "cell_type": "markdown",
      "source": [
        "#**Profitable App Profiles for the App Store and Google Play Market**"
      ],
      "metadata": {
        "id": "QcE3mM0hMLK7"
      }
    },
    {
      "cell_type": "markdown",
      "source": [
        "In this project, I will follow the guided project by DATAQUEST as 'Profitable App Profiles for the App Store and Google Play Markets'. Its goal is to determine which trends and genres are popular among mobile App users. For that, two datasets provided by Kaggle for Android users and IOS users will be explored."
      ],
      "metadata": {
        "id": "ob3ViwPCMZHa"
      }
    },
    {
      "cell_type": "code",
      "source": [
        "# import the necessary library\n",
        "from csv import reader"
      ],
      "metadata": {
        "id": "a6x6PMIoMUDv"
      },
      "execution_count": 44,
      "outputs": []
    },
    {
      "cell_type": "code",
      "source": [
        "# load Applestore data to a list\n",
        "apple_file = open('AppleStore.csv')\n",
        "apple_csv = reader(apple_file)\n",
        "apple_list = list(apple_csv)\n",
        "apple_columns = apple_list[0]\n",
        "apple = apple_list[1:]\n",
        "\n",
        "# load googleplaystore data to a list\n",
        "google_file = open('googleplaystore.csv')\n",
        "google_csv = reader(google_file)\n",
        "google_list = list(google_csv)\n",
        "google_columns = google_list[0]\n",
        "google = google_list[1:]"
      ],
      "metadata": {
        "id": "vrKGRk11W2cg"
      },
      "execution_count": 45,
      "outputs": []
    },
    {
      "cell_type": "markdown",
      "source": [
        "##**Define a function to explore datasets**"
      ],
      "metadata": {
        "id": "D2sZLKlwY36y"
      }
    },
    {
      "cell_type": "code",
      "source": [
        "def explore_data(dataset,start,end,rows_and_columns=False):\n",
        "  data = dataset[start:end]\n",
        "  for row in data:\n",
        "    print(row,'\\n')\n",
        "\n",
        "  if rows_and_columns:\n",
        "    print(f'Number of rows: {len(dataset)}\\n')\n",
        "    print(f'Number of columns: {len(data[0])}\\n')"
      ],
      "metadata": {
        "id": "t5r9C0rFXWFQ"
      },
      "execution_count": 3,
      "outputs": []
    },
    {
      "cell_type": "code",
      "source": [
        "# check some data in data sets\n",
        "explore_data(apple,0,2,True)\n",
        "print(apple_columns,'\\n')\n",
        "\n",
        "explore_data(google,0,2,True)\n",
        "print(google_columns,'\\n')"
      ],
      "metadata": {
        "colab": {
          "base_uri": "https://localhost:8080/"
        },
        "id": "891bXrJobFg4",
        "outputId": "32337aef-2b50-4cb0-ae12-90c89c0ab535"
      },
      "execution_count": 46,
      "outputs": [
        {
          "output_type": "stream",
          "name": "stdout",
          "text": [
            "['284882215', 'Facebook', '389879808', 'USD', '0.0', '2974676', '212', '3.5', '3.5', '95.0', '4+', 'Social Networking', '37', '1', '29', '1'] \n",
            "\n",
            "['389801252', 'Instagram', '113954816', 'USD', '0.0', '2161558', '1289', '4.5', '4.0', '10.23', '12+', 'Photo & Video', '37', '0', '29', '1'] \n",
            "\n",
            "Number of rows: 7197\n",
            "\n",
            "Number of columns: 16\n",
            "\n",
            "['id', 'track_name', 'size_bytes', 'currency', 'price', 'rating_count_tot', 'rating_count_ver', 'user_rating', 'user_rating_ver', 'ver', 'cont_rating', 'prime_genre', 'sup_devices.num', 'ipadSc_urls.num', 'lang.num', 'vpp_lic'] \n",
            "\n",
            "['Photo Editor & Candy Camera & Grid & ScrapBook', 'ART_AND_DESIGN', '4.1', '159', '19M', '10,000+', 'Free', '0', 'Everyone', 'Art & Design', 'January 7, 2018', '1.0.0', '4.0.3 and up'] \n",
            "\n",
            "['Coloring book moana', 'ART_AND_DESIGN', '3.9', '967', '14M', '500,000+', 'Free', '0', 'Everyone', 'Art & Design;Pretend Play', 'January 15, 2018', '2.0.0', '4.0.3 and up'] \n",
            "\n",
            "Number of rows: 10841\n",
            "\n",
            "Number of columns: 13\n",
            "\n",
            "['App', 'Category', 'Rating', 'Reviews', 'Size', 'Installs', 'Type', 'Price', 'Content Rating', 'Genres', 'Last Updated', 'Current Ver', 'Android Ver'] \n",
            "\n"
          ]
        }
      ]
    },
    {
      "cell_type": "markdown",
      "source": [
        "##**Delete the row with NaN in Google dataset**"
      ],
      "metadata": {
        "id": "smXdsj1P_zMW"
      }
    },
    {
      "cell_type": "code",
      "source": [
        "# deleting NaN row according to https://www.kaggle.com/datasets/lava18/google-play-store-apps/discussion/66015\n",
        "print(google[10472])\n",
        "del(google[10472])"
      ],
      "metadata": {
        "id": "BH2eumEEbna9",
        "colab": {
          "base_uri": "https://localhost:8080/"
        },
        "outputId": "5c2bbc7d-5e77-40be-9d16-008fd55e893f"
      },
      "execution_count": 47,
      "outputs": [
        {
          "output_type": "stream",
          "name": "stdout",
          "text": [
            "['Life Made WI-Fi Touchscreen Photo Frame', '1.9', '19', '3.0M', '1,000+', 'Free', '0', 'Everyone', '', 'February 11, 2018', '1.0.19', '4.0 and up']\n"
          ]
        }
      ]
    },
    {
      "cell_type": "code",
      "source": [
        "print(google[10472])"
      ],
      "metadata": {
        "colab": {
          "base_uri": "https://localhost:8080/"
        },
        "id": "zjyiR0VX_gJv",
        "outputId": "26a63149-5725-4866-c918-f0ad471f021c"
      },
      "execution_count": 6,
      "outputs": [
        {
          "output_type": "stream",
          "name": "stdout",
          "text": [
            "['osmino Wi-Fi: free WiFi', 'TOOLS', '4.2', '134203', '4.1M', '10,000,000+', 'Free', '0', 'Everyone', 'Tools', 'August 7, 2018', '6.06.14', '4.4 and up']\n"
          ]
        }
      ]
    },
    {
      "cell_type": "markdown",
      "source": [
        "##**Explore the duplicate Apps in Google dataset**"
      ],
      "metadata": {
        "id": "bfCdjQ_IBco3"
      }
    },
    {
      "cell_type": "code",
      "source": [
        "google_duplicate = []\n",
        "google_unique = []\n",
        "\n",
        "for row in google:\n",
        "  if row[0] not in google_unique:\n",
        "    google_unique.append(row[0])\n",
        "  else:\n",
        "    google_duplicate.append(row[0])\n",
        "\n",
        "print(len(google_unique), google_unique[:5])\n",
        "print(len(google_duplicate), google_duplicate[:5])"
      ],
      "metadata": {
        "colab": {
          "base_uri": "https://localhost:8080/"
        },
        "id": "zJsqpSURAnA_",
        "outputId": "a37a9fe4-05e9-49f1-a577-6615fc5ca89e"
      },
      "execution_count": 7,
      "outputs": [
        {
          "output_type": "stream",
          "name": "stdout",
          "text": [
            "9659 ['Photo Editor & Candy Camera & Grid & ScrapBook', 'Coloring book moana', 'U Launcher Lite – FREE Live Cool Themes, Hide Apps', 'Sketch - Draw & Paint', 'Pixel Draw - Number Art Coloring Book']\n",
            "1181 ['Quick PDF Scanner + OCR FREE', 'Box', 'Google My Business', 'ZOOM Cloud Meetings', 'join.me - Simple Meetings']\n"
          ]
        }
      ]
    },
    {
      "cell_type": "markdown",
      "source": [
        "By exploring the differences between duplicate Apps we notice that they are almost the same and the main difference is in column 4 which corresponds to the number of reviews. This is because the data have been gathered at different times so the number of reviews of the App has changed. Therefore, the better option to delete duplicate rows is to delete duplicate rows with fewer reviews. Hence, we will have the most recent reviews of that App.  "
      ],
      "metadata": {
        "id": "GfpKbaKpEP2C"
      }
    },
    {
      "cell_type": "code",
      "source": [
        "# examin Instagram in Google dataset to see the diffrences among duplicate Apps\n",
        "print(google_columns,'\\n')\n",
        "\n",
        "for row in google:\n",
        "  if row[0]=='Instagram':\n",
        "    print(row,'\\n')"
      ],
      "metadata": {
        "colab": {
          "base_uri": "https://localhost:8080/"
        },
        "id": "vuZhJtb4C36b",
        "outputId": "4bfcde1f-5987-41c8-e75b-74323618fd37"
      },
      "execution_count": 48,
      "outputs": [
        {
          "output_type": "stream",
          "name": "stdout",
          "text": [
            "['App', 'Category', 'Rating', 'Reviews', 'Size', 'Installs', 'Type', 'Price', 'Content Rating', 'Genres', 'Last Updated', 'Current Ver', 'Android Ver'] \n",
            "\n",
            "['Instagram', 'SOCIAL', '4.5', '66577313', 'Varies with device', '1,000,000,000+', 'Free', '0', 'Teen', 'Social', 'July 31, 2018', 'Varies with device', 'Varies with device'] \n",
            "\n",
            "['Instagram', 'SOCIAL', '4.5', '66577446', 'Varies with device', '1,000,000,000+', 'Free', '0', 'Teen', 'Social', 'July 31, 2018', 'Varies with device', 'Varies with device'] \n",
            "\n",
            "['Instagram', 'SOCIAL', '4.5', '66577313', 'Varies with device', '1,000,000,000+', 'Free', '0', 'Teen', 'Social', 'July 31, 2018', 'Varies with device', 'Varies with device'] \n",
            "\n",
            "['Instagram', 'SOCIAL', '4.5', '66509917', 'Varies with device', '1,000,000,000+', 'Free', '0', 'Teen', 'Social', 'July 31, 2018', 'Varies with device', 'Varies with device'] \n",
            "\n"
          ]
        }
      ]
    },
    {
      "cell_type": "markdown",
      "source": [
        "Here we are going to delete duplicate Apps according to the above information."
      ],
      "metadata": {
        "id": "8YpEVxDPHRf9"
      }
    },
    {
      "cell_type": "code",
      "source": [
        "google_with_high_reviews = {} # creating a dictionary to save high number of reviews for Apps\n",
        "\n",
        "for row in google:\n",
        "\n",
        "  if row[0] not in google_with_high_reviews:\n",
        "    google_with_high_reviews[row[0]] = int(row[3])\n",
        "\n",
        "  elif int(row[3]) > google_with_high_reviews[row[0]]:\n",
        "    google_with_high_reviews[row[0]] = int(row[3])\n",
        "\n",
        "print(google_with_high_reviews['Instagram'])"
      ],
      "metadata": {
        "colab": {
          "base_uri": "https://localhost:8080/"
        },
        "id": "KC9RX-MtLTWD",
        "outputId": "14ae30ff-d63e-4c6b-95a2-3436e13311ae"
      },
      "execution_count": 49,
      "outputs": [
        {
          "output_type": "stream",
          "name": "stdout",
          "text": [
            "66577446\n"
          ]
        }
      ]
    },
    {
      "cell_type": "code",
      "source": [
        "google_modified = []\n",
        "google_apps = [] # creating a list of Apps'name that we are going to store them in google_modified list\n",
        "\n",
        "for row in google:\n",
        "\n",
        "  if row[0] not in google_apps and google_with_high_reviews[row[0]] == int(row[3]):\n",
        "    google_apps.append(row[0])\n",
        "    google_modified.append(row)\n",
        "\n",
        "len(google_modified)"
      ],
      "metadata": {
        "colab": {
          "base_uri": "https://localhost:8080/"
        },
        "id": "SlqgdxTTkPSt",
        "outputId": "a0c2bb9a-5aab-40f5-b700-3982863d8fd2"
      },
      "execution_count": 50,
      "outputs": [
        {
          "output_type": "execute_result",
          "data": {
            "text/plain": [
              "9659"
            ]
          },
          "metadata": {},
          "execution_count": 50
        }
      ]
    },
    {
      "cell_type": "code",
      "source": [
        "len(google) - len(google_duplicate)"
      ],
      "metadata": {
        "colab": {
          "base_uri": "https://localhost:8080/"
        },
        "id": "8sngEY_xa-me",
        "outputId": "b5aaba42-8b53-493c-f5f2-41b6d11d005a"
      },
      "execution_count": 11,
      "outputs": [
        {
          "output_type": "execute_result",
          "data": {
            "text/plain": [
              "9659"
            ]
          },
          "metadata": {},
          "execution_count": 11
        }
      ]
    },
    {
      "cell_type": "markdown",
      "source": [
        "##**Explore the duplicate Apps in Apple dataset**"
      ],
      "metadata": {
        "id": "uu8vv94hHR3M"
      }
    },
    {
      "cell_type": "markdown",
      "source": [
        "There is not any duplicate Apps in Apple dataset."
      ],
      "metadata": {
        "id": "UbP6Irwfu4HG"
      }
    },
    {
      "cell_type": "code",
      "source": [
        "apple_duplicate = []\n",
        "apple_unique = []\n",
        "\n",
        "for row in apple:\n",
        "\n",
        "  if row[0] not in apple_unique:\n",
        "    apple_unique.append(row[0])\n",
        "\n",
        "  else:\n",
        "    apple_duplicate.append(row[0])\n",
        "\n",
        "print(len(apple_duplicate), apple_duplicate)\n",
        "print(len(apple_unique))\n",
        "print(len(apple))"
      ],
      "metadata": {
        "colab": {
          "base_uri": "https://localhost:8080/"
        },
        "id": "ECPMvL41F2hX",
        "outputId": "0569239c-243c-443b-80cd-dc1b5d72726f"
      },
      "execution_count": 12,
      "outputs": [
        {
          "output_type": "stream",
          "name": "stdout",
          "text": [
            "0 []\n",
            "7197\n",
            "7197\n"
          ]
        }
      ]
    },
    {
      "cell_type": "markdown",
      "source": [
        "##**Explore the both datasets to delete non-english Apps**\n",
        "\n",
        "As there are other language Apps in both datasets, we define a function to detect these Apps from datasets."
      ],
      "metadata": {
        "id": "CGjeJ-2mIfPv"
      }
    },
    {
      "cell_type": "code",
      "source": [
        "def FindNonEnglishApps(datasets, name_column = 0):\n",
        "  NonEnglish = []\n",
        "\n",
        "  for row in datasets:\n",
        "    b = 0\n",
        "\n",
        "    for s in row[name_column]:\n",
        "\n",
        "      if ord(s) > 127:\n",
        "        b += 1\n",
        "\n",
        "        if b > 3:\n",
        "          NonEnglish.append(row[name_column])\n",
        "          break\n",
        "\n",
        "  return(NonEnglish)"
      ],
      "metadata": {
        "id": "Hl1o45JetGGK"
      },
      "execution_count": 13,
      "outputs": []
    },
    {
      "cell_type": "code",
      "source": [
        "google_non_english = FindNonEnglishApps(google_modified)\n",
        "len(google_non_english)"
      ],
      "metadata": {
        "colab": {
          "base_uri": "https://localhost:8080/"
        },
        "id": "Cyx_tG0Sw9kq",
        "outputId": "bc8c627f-b332-481c-e529-db5ac92585b0"
      },
      "execution_count": 14,
      "outputs": [
        {
          "output_type": "execute_result",
          "data": {
            "text/plain": [
              "45"
            ]
          },
          "metadata": {},
          "execution_count": 14
        }
      ]
    },
    {
      "cell_type": "code",
      "source": [
        "apple_non_english = FindNonEnglishApps(apple,1)\n",
        "len(apple_non_english)"
      ],
      "metadata": {
        "colab": {
          "base_uri": "https://localhost:8080/"
        },
        "id": "rnB6NQA1xON3",
        "outputId": "8661810f-d669-4323-c22b-17851d55f1a5"
      },
      "execution_count": 15,
      "outputs": [
        {
          "output_type": "execute_result",
          "data": {
            "text/plain": [
              "1014"
            ]
          },
          "metadata": {},
          "execution_count": 15
        }
      ]
    },
    {
      "cell_type": "code",
      "source": [
        "google_modified_english = []\n",
        "apple_english = []\n",
        "\n",
        "for row in google_modified:\n",
        "\n",
        "  if row[0] not in google_non_english:\n",
        "    google_modified_english.append(row)\n",
        "\n",
        "for row in apple:\n",
        "\n",
        "  if row[1] not in apple_non_english:\n",
        "    apple_english.append(row)\n",
        "\n",
        "explore_data(google_modified_english,0,2,True)\n",
        "explore_data(apple_english,0,2,True)"
      ],
      "metadata": {
        "colab": {
          "base_uri": "https://localhost:8080/"
        },
        "id": "7oL4HWzJzkR_",
        "outputId": "d6a9c8b7-af26-482f-f106-00c3b34c6b84"
      },
      "execution_count": 16,
      "outputs": [
        {
          "output_type": "stream",
          "name": "stdout",
          "text": [
            "['Photo Editor & Candy Camera & Grid & ScrapBook', 'ART_AND_DESIGN', '4.1', '159', '19M', '10,000+', 'Free', '0', 'Everyone', 'Art & Design', 'January 7, 2018', '1.0.0', '4.0.3 and up'] \n",
            "\n",
            "['U Launcher Lite – FREE Live Cool Themes, Hide Apps', 'ART_AND_DESIGN', '4.7', '87510', '8.7M', '5,000,000+', 'Free', '0', 'Everyone', 'Art & Design', 'August 1, 2018', '1.2.4', '4.0.3 and up'] \n",
            "\n",
            "Number of rows: 9614\n",
            "\n",
            "Number of columns: 13\n",
            "\n",
            "['284882215', 'Facebook', '389879808', 'USD', '0.0', '2974676', '212', '3.5', '3.5', '95.0', '4+', 'Social Networking', '37', '1', '29', '1'] \n",
            "\n",
            "['389801252', 'Instagram', '113954816', 'USD', '0.0', '2161558', '1289', '4.5', '4.0', '10.23', '12+', 'Photo & Video', '37', '0', '29', '1'] \n",
            "\n",
            "Number of rows: 6183\n",
            "\n",
            "Number of columns: 16\n",
            "\n"
          ]
        }
      ]
    },
    {
      "cell_type": "markdown",
      "source": [
        "##**Exploring datasets to identify free Apps**\n",
        "Here we are going to find free Apps. We should consider that price's format in datasets is string."
      ],
      "metadata": {
        "id": "1dTLBAFhGPmH"
      }
    },
    {
      "cell_type": "code",
      "source": [
        "# defining a function to identify free Apps\n",
        "\n",
        "def FindFreeApps(dataset= google_modified_english, price_column= 7):\n",
        "  free_apps = []\n",
        "\n",
        "  for row in dataset:\n",
        "    if row[price_column] == '0' or row[price_column] == '0.0':\n",
        "      free_apps.append(row)\n",
        "  return(free_apps)"
      ],
      "metadata": {
        "id": "2wtqs9374E3e"
      },
      "execution_count": 51,
      "outputs": []
    },
    {
      "cell_type": "code",
      "source": [
        "google_modified_english_free = FindFreeApps()\n",
        "apple_english_free = FindFreeApps(apple_english, 4)\n",
        "\n",
        "explore_data(google_modified_english_free,0,2,True)\n",
        "explore_data(apple_english_free,0,2,True)"
      ],
      "metadata": {
        "colab": {
          "base_uri": "https://localhost:8080/"
        },
        "id": "TO9jFZ0TI3gr",
        "outputId": "4f678f50-6fa5-4b4e-f28a-c6f75efb9b1c"
      },
      "execution_count": 18,
      "outputs": [
        {
          "output_type": "stream",
          "name": "stdout",
          "text": [
            "['Photo Editor & Candy Camera & Grid & ScrapBook', 'ART_AND_DESIGN', '4.1', '159', '19M', '10,000+', 'Free', '0', 'Everyone', 'Art & Design', 'January 7, 2018', '1.0.0', '4.0.3 and up'] \n",
            "\n",
            "['U Launcher Lite – FREE Live Cool Themes, Hide Apps', 'ART_AND_DESIGN', '4.7', '87510', '8.7M', '5,000,000+', 'Free', '0', 'Everyone', 'Art & Design', 'August 1, 2018', '1.2.4', '4.0.3 and up'] \n",
            "\n",
            "Number of rows: 8864\n",
            "\n",
            "Number of columns: 13\n",
            "\n",
            "['284882215', 'Facebook', '389879808', 'USD', '0.0', '2974676', '212', '3.5', '3.5', '95.0', '4+', 'Social Networking', '37', '1', '29', '1'] \n",
            "\n",
            "['389801252', 'Instagram', '113954816', 'USD', '0.0', '2161558', '1289', '4.5', '4.0', '10.23', '12+', 'Photo & Video', '37', '0', '29', '1'] \n",
            "\n",
            "Number of rows: 3222\n",
            "\n",
            "Number of columns: 16\n",
            "\n"
          ]
        }
      ]
    },
    {
      "cell_type": "markdown",
      "source": [
        "##**Most common Apps by genre**\n",
        "Here we are going to identify the common Apps in both datasets. Since our final goal is to create an App that would be profitable in both the Google and Apple stores, we should first be certain which genres are most popular in both Apple and Android users. First, we need to explore the column names to identify which columns will tell us about genres."
      ],
      "metadata": {
        "id": "JdgWj5r8KzBf"
      }
    },
    {
      "cell_type": "code",
      "source": [
        "print(google_columns)\n",
        "explore_data(google_modified_english_free, 0, 1)\n",
        "print(apple_columns)\n",
        "explore_data(apple_english_free,0,1)"
      ],
      "metadata": {
        "colab": {
          "base_uri": "https://localhost:8080/"
        },
        "id": "JsFdlL6qJtAP",
        "outputId": "e1cd9068-1357-4c18-e7c0-f90628dfa7b4"
      },
      "execution_count": 19,
      "outputs": [
        {
          "output_type": "stream",
          "name": "stdout",
          "text": [
            "['App', 'Category', 'Rating', 'Reviews', 'Size', 'Installs', 'Type', 'Price', 'Content Rating', 'Genres', 'Last Updated', 'Current Ver', 'Android Ver']\n",
            "['Photo Editor & Candy Camera & Grid & ScrapBook', 'ART_AND_DESIGN', '4.1', '159', '19M', '10,000+', 'Free', '0', 'Everyone', 'Art & Design', 'January 7, 2018', '1.0.0', '4.0.3 and up'] \n",
            "\n",
            "['id', 'track_name', 'size_bytes', 'currency', 'price', 'rating_count_tot', 'rating_count_ver', 'user_rating', 'user_rating_ver', 'ver', 'cont_rating', 'prime_genre', 'sup_devices.num', 'ipadSc_urls.num', 'lang.num', 'vpp_lic']\n",
            "['284882215', 'Facebook', '389879808', 'USD', '0.0', '2974676', '212', '3.5', '3.5', '95.0', '4+', 'Social Networking', '37', '1', '29', '1'] \n",
            "\n"
          ]
        }
      ]
    },
    {
      "cell_type": "markdown",
      "source": [
        "According to the above, we can see that the columns with 'Genres' and 'Category' titles in Google dataset and with 'prime_genre' in Apple dataset are the ones we can use to identify popular genres.\n",
        "\n",
        "\n"
      ],
      "metadata": {
        "id": "aj57eONbNm5L"
      }
    },
    {
      "cell_type": "code",
      "source": [
        "def frequency_table(dataset= google_modified_english_free, genre_column= 1):\n",
        "  frequency = {}\n",
        "  percentage = {}\n",
        "  t = 1\n",
        "\n",
        "  for row in dataset:\n",
        "    t += 1\n",
        "\n",
        "    if row[genre_column] in frequency:\n",
        "      frequency[row[genre_column]] += 1\n",
        "    else:\n",
        "      frequency[row[genre_column]] = 1\n",
        "\n",
        "  for key in frequency:\n",
        "    percentage[key] = frequency[key]/t*100\n",
        "\n",
        "  return(percentage)"
      ],
      "metadata": {
        "id": "2qRAqMUJMohh"
      },
      "execution_count": 20,
      "outputs": []
    },
    {
      "cell_type": "code",
      "source": [
        "google_frequency = frequency_table(genre_column=1)\n",
        "print(google_frequency)\n",
        "\n",
        "apple_frequency = frequency_table(apple_english_free, 11)\n",
        "print(apple_frequency)"
      ],
      "metadata": {
        "colab": {
          "base_uri": "https://localhost:8080/"
        },
        "id": "dX9kfwRZS830",
        "outputId": "8f37d721-11f6-46aa-a86c-0d8fa22d795e"
      },
      "execution_count": 21,
      "outputs": [
        {
          "output_type": "stream",
          "name": "stdout",
          "text": [
            "{'ART_AND_DESIGN': 0.6429780033840948, 'AUTO_AND_VEHICLES': 0.924985899605189, 'BEAUTY': 0.5978567399887197, 'BOOKS_AND_REFERENCE': 2.143260011280316, 'BUSINESS': 4.591088550479413, 'COMICS': 0.6204173716864072, 'COMMUNICATION': 3.2374506486181613, 'DATING': 1.8612521150592216, 'EDUCATION': 1.161872532430908, 'ENTERTAINMENT': 0.9588268471517203, 'EVENTS': 0.7106598984771574, 'FINANCE': 3.699943598420756, 'FOOD_AND_DRINK': 1.2408347433728144, 'HEALTH_AND_FITNESS': 3.0795262267343486, 'HOUSE_AND_HOME': 0.8234630569655951, 'LIBRARIES_AND_DEMO': 0.9362662154540328, 'LIFESTYLE': 3.902989283699944, 'GAME': 9.723632261703328, 'FAMILY': 18.905809362662154, 'MEDICAL': 3.5307388606880994, 'SOCIAL': 2.662154540327129, 'SHOPPING': 2.2447828539199097, 'PHOTOGRAPHY': 2.9441624365482233, 'SPORTS': 3.395375070501974, 'TRAVEL_AND_LOCAL': 2.33502538071066, 'TOOLS': 8.460236886632826, 'PERSONALIZATION': 3.3164128595600673, 'PRODUCTIVITY': 3.8917089678511, 'PARENTING': 0.6542583192329385, 'WEATHER': 0.8009024252679076, 'VIDEO_PLAYERS': 1.793570219966159, 'NEWS_AND_MAGAZINES': 2.7975183305132543, 'MAPS_AND_NAVIGATION': 1.3987591652566271}\n",
            "{'Social Networking': 3.288861309339125, 'Photo & Video': 4.964318957493019, 'Games': 58.144585789636984, 'Music': 2.04778156996587, 'Reference': 0.5584858827179646, 'Health & Fitness': 2.016754576481539, 'Weather': 0.8687558175612783, 'Utilities': 2.513186472230841, 'Travel': 1.2410797393732547, 'Shopping': 2.6062674526838348, 'News': 1.3341607198262488, 'Navigation': 0.18616196090598822, 'Lifestyle': 1.5823766677008997, 'Entertainment': 7.880856345020168, 'Food & Drink': 0.8067018305926157, 'Sports': 2.140862550418864, 'Book': 0.43437790878063914, 'Finance': 1.1169717654359292, 'Education': 3.661185231151101, 'Productivity': 1.7375116351225566, 'Business': 0.5274588892336333, 'Catalogs': 0.12410797393732546, 'Medical': 0.18616196090598822}\n"
          ]
        }
      ]
    },
    {
      "cell_type": "markdown",
      "source": [
        "Now, we are going to sort the percentage dictionary from high to low to get the sorted genres for each dataset. For that, we first define a function."
      ],
      "metadata": {
        "id": "poG5aDR2f1R6"
      }
    },
    {
      "cell_type": "code",
      "source": [
        "def sort_genres(dataset, genre_column, reverse=True):\n",
        "  percentage = frequency_table(dataset,genre_column)\n",
        "  sorted_dict = {k:v for k,v in sorted(percentage.items(), key= lambda item:item[1], reverse= reverse)}\n",
        "\n",
        "  for k,v in sorted_dict.items():\n",
        "    print(f'{k} : {v}')"
      ],
      "metadata": {
        "id": "te3Pxse0TLzj"
      },
      "execution_count": 22,
      "outputs": []
    },
    {
      "cell_type": "markdown",
      "source": [
        "Now, we have a function that gets the dataset and the index of the column as input, and then by using another function, it calculates the percentage frequency of that column and sorts it. We chose the 'Category' and 'Genres' columns for the Google dataset and the 'prime_genre' column for the Apple dataset. Their sorted results can be found below:"
      ],
      "metadata": {
        "id": "S66FbIemlNVf"
      }
    },
    {
      "cell_type": "code",
      "source": [
        "sort_genres(google_modified_english_free,1) # Sort genres by 'Category' for google datset"
      ],
      "metadata": {
        "colab": {
          "base_uri": "https://localhost:8080/"
        },
        "id": "d_0FiNGojsqc",
        "outputId": "63250df8-93ec-4640-ac64-571468396c31"
      },
      "execution_count": 23,
      "outputs": [
        {
          "output_type": "stream",
          "name": "stdout",
          "text": [
            "FAMILY : 18.905809362662154\n",
            "GAME : 9.723632261703328\n",
            "TOOLS : 8.460236886632826\n",
            "BUSINESS : 4.591088550479413\n",
            "LIFESTYLE : 3.902989283699944\n",
            "PRODUCTIVITY : 3.8917089678511\n",
            "FINANCE : 3.699943598420756\n",
            "MEDICAL : 3.5307388606880994\n",
            "SPORTS : 3.395375070501974\n",
            "PERSONALIZATION : 3.3164128595600673\n",
            "COMMUNICATION : 3.2374506486181613\n",
            "HEALTH_AND_FITNESS : 3.0795262267343486\n",
            "PHOTOGRAPHY : 2.9441624365482233\n",
            "NEWS_AND_MAGAZINES : 2.7975183305132543\n",
            "SOCIAL : 2.662154540327129\n",
            "TRAVEL_AND_LOCAL : 2.33502538071066\n",
            "SHOPPING : 2.2447828539199097\n",
            "BOOKS_AND_REFERENCE : 2.143260011280316\n",
            "DATING : 1.8612521150592216\n",
            "VIDEO_PLAYERS : 1.793570219966159\n",
            "MAPS_AND_NAVIGATION : 1.3987591652566271\n",
            "FOOD_AND_DRINK : 1.2408347433728144\n",
            "EDUCATION : 1.161872532430908\n",
            "ENTERTAINMENT : 0.9588268471517203\n",
            "LIBRARIES_AND_DEMO : 0.9362662154540328\n",
            "AUTO_AND_VEHICLES : 0.924985899605189\n",
            "HOUSE_AND_HOME : 0.8234630569655951\n",
            "WEATHER : 0.8009024252679076\n",
            "EVENTS : 0.7106598984771574\n",
            "PARENTING : 0.6542583192329385\n",
            "ART_AND_DESIGN : 0.6429780033840948\n",
            "COMICS : 0.6204173716864072\n",
            "BEAUTY : 0.5978567399887197\n"
          ]
        }
      ]
    },
    {
      "cell_type": "code",
      "source": [
        "sort_genres(google_modified_english_free,9) # Sort genres by 'Genres' for google datset"
      ],
      "metadata": {
        "colab": {
          "base_uri": "https://localhost:8080/"
        },
        "id": "8b2lKu6xhSHe",
        "outputId": "0f7a06d4-ce54-4f43-b0a3-8680b44341c5"
      },
      "execution_count": 24,
      "outputs": [
        {
          "output_type": "stream",
          "name": "stdout",
          "text": [
            "Tools : 8.44895657078398\n",
            "Entertainment : 6.068809926677947\n",
            "Education : 5.346869712351946\n",
            "Business : 4.591088550479413\n",
            "Lifestyle : 3.8917089678511\n",
            "Productivity : 3.8917089678511\n",
            "Finance : 3.699943598420756\n",
            "Medical : 3.5307388606880994\n",
            "Sports : 3.4630569655950363\n",
            "Personalization : 3.3164128595600673\n",
            "Communication : 3.2374506486181613\n",
            "Action : 3.102086858432036\n",
            "Health & Fitness : 3.0795262267343486\n",
            "Photography : 2.9441624365482233\n",
            "News & Magazines : 2.7975183305132543\n",
            "Social : 2.662154540327129\n",
            "Travel & Local : 2.323745064861816\n",
            "Shopping : 2.2447828539199097\n",
            "Books & Reference : 2.143260011280316\n",
            "Simulation : 2.0417371686407217\n",
            "Dating : 1.8612521150592216\n",
            "Arcade : 1.849971799210378\n",
            "Video Players & Editors : 1.7710095882684715\n",
            "Casual : 1.7597292724196276\n",
            "Maps & Navigation : 1.3987591652566271\n",
            "Food & Drink : 1.2408347433728144\n",
            "Puzzle : 1.1280315848843767\n",
            "Racing : 0.9926677946982515\n",
            "Libraries & Demo : 0.9362662154540328\n",
            "Role Playing : 0.9362662154540328\n",
            "Auto & Vehicles : 0.924985899605189\n",
            "Strategy : 0.9137055837563453\n",
            "House & Home : 0.8234630569655951\n",
            "Weather : 0.8009024252679076\n",
            "Events : 0.7106598984771574\n",
            "Adventure : 0.676818950930626\n",
            "Comics : 0.6091370558375634\n",
            "Art & Design : 0.5978567399887197\n",
            "Beauty : 0.5978567399887197\n",
            "Parenting : 0.49633389734912575\n",
            "Card : 0.4512126339537508\n",
            "Casino : 0.42865200225606315\n",
            "Trivia : 0.4173716864072194\n",
            "Educational;Education : 0.39481105470953193\n",
            "Board : 0.3835307388606881\n",
            "Educational : 0.3722504230118443\n",
            "Education;Education : 0.338409475465313\n",
            "Word : 0.25944726452340666\n",
            "Casual;Pretend Play : 0.23688663282571912\n",
            "Music : 0.20304568527918782\n",
            "Entertainment;Music & Video : 0.1692047377326565\n",
            "Puzzle;Brain Games : 0.1692047377326565\n",
            "Racing;Action & Adventure : 0.1692047377326565\n",
            "Casual;Brain Games : 0.1353637901861252\n",
            "Casual;Action & Adventure : 0.1353637901861252\n",
            "Arcade;Action & Adventure : 0.12408347433728144\n",
            "Action;Action & Adventure : 0.10152284263959391\n",
            "Educational;Pretend Play : 0.09024252679075014\n",
            "Entertainment;Brain Games : 0.07896221094190638\n",
            "Simulation;Action & Adventure : 0.07896221094190638\n",
            "Board;Brain Games : 0.07896221094190638\n",
            "Parenting;Education : 0.07896221094190638\n",
            "Art & Design;Creativity : 0.0676818950930626\n",
            "Educational;Brain Games : 0.0676818950930626\n",
            "Casual;Creativity : 0.0676818950930626\n",
            "Parenting;Music & Video : 0.0676818950930626\n",
            "Education;Pretend Play : 0.05640157924421885\n",
            "Education;Creativity : 0.04512126339537507\n",
            "Role Playing;Pretend Play : 0.04512126339537507\n",
            "Education;Brain Games : 0.0338409475465313\n",
            "Entertainment;Creativity : 0.0338409475465313\n",
            "Educational;Creativity : 0.0338409475465313\n",
            "Adventure;Action & Adventure : 0.0338409475465313\n",
            "Role Playing;Action & Adventure : 0.0338409475465313\n",
            "Educational;Action & Adventure : 0.0338409475465313\n",
            "Entertainment;Action & Adventure : 0.0338409475465313\n",
            "Puzzle;Action & Adventure : 0.0338409475465313\n",
            "Education;Action & Adventure : 0.0338409475465313\n",
            "Education;Music & Video : 0.0338409475465313\n",
            "Casual;Education : 0.022560631697687534\n",
            "Music;Music & Video : 0.022560631697687534\n",
            "Simulation;Pretend Play : 0.022560631697687534\n",
            "Puzzle;Creativity : 0.022560631697687534\n",
            "Sports;Action & Adventure : 0.022560631697687534\n",
            "Board;Action & Adventure : 0.022560631697687534\n",
            "Entertainment;Pretend Play : 0.022560631697687534\n",
            "Video Players & Editors;Music & Video : 0.022560631697687534\n",
            "Comics;Creativity : 0.011280315848843767\n",
            "Lifestyle;Pretend Play : 0.011280315848843767\n",
            "Art & Design;Pretend Play : 0.011280315848843767\n",
            "Entertainment;Education : 0.011280315848843767\n",
            "Arcade;Pretend Play : 0.011280315848843767\n",
            "Art & Design;Action & Adventure : 0.011280315848843767\n",
            "Strategy;Action & Adventure : 0.011280315848843767\n",
            "Music & Audio;Music & Video : 0.011280315848843767\n",
            "Health & Fitness;Education : 0.011280315848843767\n",
            "Casual;Music & Video : 0.011280315848843767\n",
            "Travel & Local;Action & Adventure : 0.011280315848843767\n",
            "Tools;Education : 0.011280315848843767\n",
            "Parenting;Brain Games : 0.011280315848843767\n",
            "Video Players & Editors;Creativity : 0.011280315848843767\n",
            "Health & Fitness;Action & Adventure : 0.011280315848843767\n",
            "Trivia;Education : 0.011280315848843767\n",
            "Lifestyle;Education : 0.011280315848843767\n",
            "Card;Action & Adventure : 0.011280315848843767\n",
            "Books & Reference;Education : 0.011280315848843767\n",
            "Simulation;Education : 0.011280315848843767\n",
            "Puzzle;Education : 0.011280315848843767\n",
            "Adventure;Education : 0.011280315848843767\n",
            "Role Playing;Brain Games : 0.011280315848843767\n",
            "Strategy;Education : 0.011280315848843767\n",
            "Racing;Pretend Play : 0.011280315848843767\n",
            "Communication;Creativity : 0.011280315848843767\n",
            "Strategy;Creativity : 0.011280315848843767\n"
          ]
        }
      ]
    },
    {
      "cell_type": "markdown",
      "source": [
        "The differences between 'Category' and 'Genres' are not clear enough. But what we can see from these two is that the applicable Apps are more popular among Google users. While games and entertainment are the second most popular in both columns, the applicable Apps are among the 5 most popular Apps."
      ],
      "metadata": {
        "id": "EdPsqmQVszl3"
      }
    },
    {
      "cell_type": "code",
      "source": [
        "sort_genres(apple_english_free,11) # sort genres by 'prime_genre' for apple datset"
      ],
      "metadata": {
        "colab": {
          "base_uri": "https://localhost:8080/"
        },
        "id": "kIz-n8uNiI6y",
        "outputId": "b4d0436c-e29f-428c-8e1c-af193c163188"
      },
      "execution_count": 52,
      "outputs": [
        {
          "output_type": "stream",
          "name": "stdout",
          "text": [
            "Games : 58.144585789636984\n",
            "Entertainment : 7.880856345020168\n",
            "Photo & Video : 4.964318957493019\n",
            "Education : 3.661185231151101\n",
            "Social Networking : 3.288861309339125\n",
            "Shopping : 2.6062674526838348\n",
            "Utilities : 2.513186472230841\n",
            "Sports : 2.140862550418864\n",
            "Music : 2.04778156996587\n",
            "Health & Fitness : 2.016754576481539\n",
            "Productivity : 1.7375116351225566\n",
            "Lifestyle : 1.5823766677008997\n",
            "News : 1.3341607198262488\n",
            "Travel : 1.2410797393732547\n",
            "Finance : 1.1169717654359292\n",
            "Weather : 0.8687558175612783\n",
            "Food & Drink : 0.8067018305926157\n",
            "Reference : 0.5584858827179646\n",
            "Business : 0.5274588892336333\n",
            "Book : 0.43437790878063914\n",
            "Navigation : 0.18616196090598822\n",
            "Medical : 0.18616196090598822\n",
            "Catalogs : 0.12410797393732546\n"
          ]
        }
      ]
    },
    {
      "cell_type": "markdown",
      "source": [
        "From the Apple dataset result, we can notice that the main popular genres are 'Games', 'Entertainment', and 'Photo & Video' which shows that the main trend among Apple users is the entertainment Apps."
      ],
      "metadata": {
        "id": "GiQNkSCUoAeH"
      }
    },
    {
      "cell_type": "markdown",
      "source": [
        "##**Most popular Apps by genre in apple dataset**\n",
        "We want to find which genre is the most popular according to the number of users. For that, we can use the 'rating_count_tot' column as an indicator for Apple users. By summing this column for all the apps belonging to one genre and then dividing them by the number of that genre's apps, we can find the average the 'rating_count_tot' for each genre and so we can find the most popular genres based on the number of users."
      ],
      "metadata": {
        "id": "ym4OswO0PRAI"
      }
    },
    {
      "cell_type": "code",
      "source": [
        "# Find the average number of users for each gener\n",
        "genre_rate_dict = {}\n",
        "\n",
        "for genre in apple_frequency:\n",
        "  genre_rate = 0\n",
        "  total_apps = 0\n",
        "\n",
        "  for row in apple_english_free:\n",
        "\n",
        "    if row[11] == genre:\n",
        "      genre_rate += int(row[5])\n",
        "      total_apps += 1\n",
        "      genre_rate_dict[genre] = genre_rate/total_apps\n",
        "\n",
        "sorted_genre_rate_dict = {k:v for k,v in sorted(genre_rate_dict.items(), key= lambda item:item[1],reverse = True)} # Sort the popular genres\n",
        "sorted_genre_rate_dict"
      ],
      "metadata": {
        "id": "HzBehnmRkMY-",
        "colab": {
          "base_uri": "https://localhost:8080/"
        },
        "outputId": "5b3a06e9-1acf-4b3f-b51d-c0b983eb3bda"
      },
      "execution_count": 26,
      "outputs": [
        {
          "output_type": "execute_result",
          "data": {
            "text/plain": [
              "{'Navigation': 86090.33333333333,\n",
              " 'Reference': 74942.11111111111,\n",
              " 'Social Networking': 71548.34905660378,\n",
              " 'Music': 57326.530303030304,\n",
              " 'Weather': 52279.892857142855,\n",
              " 'Book': 39758.5,\n",
              " 'Food & Drink': 33333.92307692308,\n",
              " 'Finance': 31467.944444444445,\n",
              " 'Photo & Video': 28441.54375,\n",
              " 'Travel': 28243.8,\n",
              " 'Shopping': 26919.690476190477,\n",
              " 'Health & Fitness': 23298.015384615384,\n",
              " 'Sports': 23008.898550724636,\n",
              " 'Games': 22788.6696905016,\n",
              " 'News': 21248.023255813954,\n",
              " 'Productivity': 21028.410714285714,\n",
              " 'Utilities': 18684.456790123455,\n",
              " 'Lifestyle': 16485.764705882353,\n",
              " 'Entertainment': 14029.830708661417,\n",
              " 'Business': 7491.117647058823,\n",
              " 'Education': 7003.983050847458,\n",
              " 'Catalogs': 4004.0,\n",
              " 'Medical': 612.0}"
            ]
          },
          "metadata": {},
          "execution_count": 26
        }
      ]
    },
    {
      "cell_type": "markdown",
      "source": [
        "We can see the most popular genres by number of users are 'Navigation', 'Reference' and 'Social Networking'. Now we explore this genres' Apps and their corresponding 'rating_count_tot'."
      ],
      "metadata": {
        "id": "WzbaMm80W6Hu"
      }
    },
    {
      "cell_type": "code",
      "source": [
        "# define a function to return sorted each genres' Apps by their 'rating_count_tot'\n",
        "\n",
        "def sorted_genre_apps_users(genre, dataset=apple_english_free,app_column=1, genre_columns=11,user_number_column=5):\n",
        "  genre_apps_users = {}\n",
        "\n",
        "  for row in dataset:\n",
        "    if row[genre_columns] == genre:\n",
        "      genre_apps_users[row[app_column]] = float(row[user_number_column])\n",
        "  sorted_genre_apps_users = {k:v for k,v in sorted(genre_apps_users.items(), key= lambda item:item[1], reverse= True)}\n",
        "  return(sorted_genre_apps_users)"
      ],
      "metadata": {
        "id": "2LdVBDOTSs5G"
      },
      "execution_count": 37,
      "outputs": []
    },
    {
      "cell_type": "code",
      "source": [
        "sorted_genre_apps_users(genre='Navigation')"
      ],
      "metadata": {
        "colab": {
          "base_uri": "https://localhost:8080/"
        },
        "id": "ihIOCcGSZU6g",
        "outputId": "bfcce966-51ff-4be6-fa3c-a1555f23bc3a"
      },
      "execution_count": 28,
      "outputs": [
        {
          "output_type": "execute_result",
          "data": {
            "text/plain": [
              "{'Waze - GPS Navigation, Maps & Real-time Traffic': 345046.0,\n",
              " 'Google Maps - Navigation & Transit': 154911.0,\n",
              " 'Geocaching®': 12811.0,\n",
              " 'CoPilot GPS – Car Navigation & Offline Maps': 3582.0,\n",
              " 'ImmobilienScout24: Real Estate Search in Germany': 187.0,\n",
              " 'Railway Route Search': 5.0}"
            ]
          },
          "metadata": {},
          "execution_count": 28
        }
      ]
    },
    {
      "cell_type": "code",
      "source": [
        "sorted_genre_apps_users(genre='Reference')"
      ],
      "metadata": {
        "colab": {
          "base_uri": "https://localhost:8080/"
        },
        "id": "904BanEjZ2Mf",
        "outputId": "2ecf7def-899e-4e8b-e831-3f905441aa47"
      },
      "execution_count": 29,
      "outputs": [
        {
          "output_type": "execute_result",
          "data": {
            "text/plain": [
              "{'Bible': 985920.0,\n",
              " 'Dictionary.com Dictionary & Thesaurus': 200047.0,\n",
              " 'Dictionary.com Dictionary & Thesaurus for iPad': 54175.0,\n",
              " 'Google Translate': 26786.0,\n",
              " 'Muslim Pro: Ramadan 2017 Prayer Times, Azan, Quran': 18418.0,\n",
              " 'New Furniture Mods - Pocket Wiki & Game Tools for Minecraft PC Edition': 17588.0,\n",
              " 'Merriam-Webster Dictionary': 16849.0,\n",
              " 'Night Sky': 12122.0,\n",
              " 'City Maps for Minecraft PE - The Best Maps for Minecraft Pocket Edition (MCPE)': 8535.0,\n",
              " 'LUCKY BLOCK MOD ™ for Minecraft PC Edition - The Best Pocket Wiki & Mods Installer Tools': 4693.0,\n",
              " 'GUNS MODS for Minecraft PC Edition - Mods Tools': 1497.0,\n",
              " 'Guides for Pokémon GO - Pokemon GO News and Cheats': 826.0,\n",
              " 'WWDC': 762.0,\n",
              " 'Horror Maps for Minecraft PE - Download The Scariest Maps for Minecraft Pocket Edition (MCPE) Free': 718.0,\n",
              " 'VPN Express': 14.0,\n",
              " 'Real Bike Traffic Rider Virtual Reality Glasses': 8.0,\n",
              " '教えて!goo': 0.0,\n",
              " 'Jishokun-Japanese English Dictionary & Translator': 0.0}"
            ]
          },
          "metadata": {},
          "execution_count": 29
        }
      ]
    },
    {
      "cell_type": "code",
      "source": [
        "sorted_genre_apps_users(genre='Social Networking')"
      ],
      "metadata": {
        "colab": {
          "base_uri": "https://localhost:8080/"
        },
        "id": "lPcdlp84aAjw",
        "outputId": "deac7d15-8ab5-49a8-fb3a-e6525b809c5f"
      },
      "execution_count": 30,
      "outputs": [
        {
          "output_type": "execute_result",
          "data": {
            "text/plain": [
              "{'Facebook': 2974676.0,\n",
              " 'Pinterest': 1061624.0,\n",
              " 'Skype for iPhone': 373519.0,\n",
              " 'Messenger': 351466.0,\n",
              " 'Tumblr': 334293.0,\n",
              " 'WhatsApp Messenger': 287589.0,\n",
              " 'Kik': 260965.0,\n",
              " 'ooVoo – Free Video Call, Text and Voice': 177501.0,\n",
              " 'TextNow - Unlimited Text + Calls': 164963.0,\n",
              " 'Viber Messenger – Text & Call': 164249.0,\n",
              " 'Followers - Social Analytics For Instagram': 112778.0,\n",
              " 'MeetMe - Chat and Meet New People': 97072.0,\n",
              " 'We Heart It - Fashion, wallpapers, quotes, tattoos': 90414.0,\n",
              " 'InsTrack for Instagram - Analytics Plus More': 85535.0,\n",
              " 'Tango - Free Video Call, Voice and Chat': 75412.0,\n",
              " 'LinkedIn': 71856.0,\n",
              " 'Match™ - #1 Dating App.': 60659.0,\n",
              " 'Skype for iPad': 60163.0,\n",
              " 'POF - Best Dating App for Conversations': 52642.0,\n",
              " 'Timehop': 49510.0,\n",
              " 'Find My Family, Friends & iPhone - Life360 Locator': 43877.0,\n",
              " 'Whisper - Share, Express, Meet': 39819.0,\n",
              " 'Hangouts': 36404.0,\n",
              " 'LINE PLAY - Your Avatar World': 34677.0,\n",
              " 'WeChat': 34584.0,\n",
              " 'Badoo - Meet New People, Chat, Socialize.': 34428.0,\n",
              " 'Followers + for Instagram - Follower Analytics': 28633.0,\n",
              " 'GroupMe': 28260.0,\n",
              " 'Marco Polo Video Walkie Talkie': 27662.0,\n",
              " 'Miitomo': 23965.0,\n",
              " 'SimSimi': 23530.0,\n",
              " 'Grindr - Gay and same sex guys chat, meet and date': 23201.0,\n",
              " 'Wishbone - Compare Anything': 20649.0,\n",
              " 'imo video calls and chat': 18841.0,\n",
              " 'After School - Funny Anonymous School News': 18482.0,\n",
              " 'Quick Reposter - Repost, Regram and Reshare Photos': 17694.0,\n",
              " 'Weibo HD': 16772.0,\n",
              " 'Repost for Instagram': 15185.0,\n",
              " 'Live.me – Live Video Chat & Make Friends Nearby': 14724.0,\n",
              " 'Nextdoor': 14402.0,\n",
              " 'Followers Analytics for Instagram - InstaReport': 13914.0,\n",
              " 'YouNow: Live Stream Video Chat': 12079.0,\n",
              " 'FollowMeter for Instagram - Followers Tracking': 11976.0,\n",
              " 'LINE': 11437.0,\n",
              " 'eHarmony™ Dating App - Meet Singles': 11124.0,\n",
              " 'Discord - Chat for Gamers': 9152.0,\n",
              " 'QQ': 9109.0,\n",
              " 'Telegram Messenger': 7573.0,\n",
              " 'Weibo': 7265.0,\n",
              " 'Periscope - Live Video Streaming Around the World': 6062.0,\n",
              " 'Chat for Whatsapp - iPad Version': 5060.0,\n",
              " 'QQ HD': 5058.0,\n",
              " 'Followers Analysis Tool For Instagram App Free': 4253.0,\n",
              " 'live.ly - live video streaming': 4145.0,\n",
              " 'Houseparty - Group Video Chat': 3991.0,\n",
              " 'SOMA Messenger': 3232.0,\n",
              " 'Monkey': 3060.0,\n",
              " 'Down To Lunch': 2535.0,\n",
              " 'Flinch - Video Chat Staring Contest': 2134.0,\n",
              " 'Highrise - Your Avatar Community': 2011.0,\n",
              " 'LOVOO - Dating Chat': 1985.0,\n",
              " 'PlayStation®Messages': 1918.0,\n",
              " 'BOO! - Video chat camera with filters & stickers': 1805.0,\n",
              " 'Qzone': 1649.0,\n",
              " 'Chatous - Chat with new people': 1609.0,\n",
              " 'Kiwi - Q&A': 1538.0,\n",
              " 'GhostCodes - a discovery app for Snapchat': 1313.0,\n",
              " 'Jodel': 1193.0,\n",
              " 'FireChat': 1037.0,\n",
              " 'Google Duo - simple video calling': 1033.0,\n",
              " 'Fiesta by Tango - Chat & Meet New People': 885.0,\n",
              " 'Google Allo — smart messaging': 862.0,\n",
              " 'Peach — share vividly': 727.0,\n",
              " 'Hey! VINA - Where Women Meet New Friends': 719.0,\n",
              " 'Battlefield™ Companion': 689.0,\n",
              " 'All Devices for WhatsApp - Messenger for iPad': 682.0,\n",
              " 'Chat for Pokemon Go - GoChat': 500.0,\n",
              " 'IAmNaughty – Dating App to Meet New People Online': 463.0,\n",
              " 'Qzone HD': 458.0,\n",
              " 'Zenly - Locate your friends in realtime': 427.0,\n",
              " 'League of Legends Friends': 420.0,\n",
              " '豆瓣': 407.0,\n",
              " 'Candid - Speak Your Mind Freely': 398.0,\n",
              " '知乎': 397.0,\n",
              " 'Selfeo': 366.0,\n",
              " 'Fake-A-Location Free ™': 354.0,\n",
              " 'Popcorn Buzz - Free Group Calls': 281.0,\n",
              " 'Fam — Group video calling for iMessage': 279.0,\n",
              " 'QQ International': 274.0,\n",
              " 'Ameba': 269.0,\n",
              " 'SoundCloud Pulse: for creators': 240.0,\n",
              " 'Tantan': 235.0,\n",
              " 'Cougar Dating & Life Style App for Mature Women': 213.0,\n",
              " 'Rawr Messenger - Dab your chat': 180.0,\n",
              " 'WhenToPost: Best Time to Post Photos for Instagram': 158.0,\n",
              " 'Inke—Broadcast an amazing life': 147.0,\n",
              " 'Mustknow - anonymous video Q&A': 53.0,\n",
              " 'CTFxCmoji': 39.0,\n",
              " 'Lobi': 36.0,\n",
              " 'Chain: Collaborate On MyVideo Story/Group Video': 35.0,\n",
              " 'botman - Real time video chat': 7.0,\n",
              " 'BestieBox': 0.0,\n",
              " 'MATCH ON LINE chat': 0.0,\n",
              " 'niconico ch': 0.0,\n",
              " 'LINE BLOG': 0.0,\n",
              " 'bit-tube - Live Stream Video Chat': 0.0}"
            ]
          },
          "metadata": {},
          "execution_count": 30
        }
      ]
    },
    {
      "cell_type": "markdown",
      "source": [
        "By exploring the results of these three genres we notice that they are mostly dominated by big companies and Apps. For instance, popularity based on 'rating_count_tot' for 'Social Networking' is dominated by 'Facebook', 'Pinterest', 'Skype for iPhone', 'Messenger', and 'Tumblr' Apps. 'Reference' top Apps show us that book-related Apps are popular and it provides the opportunity to take another book and turn it into an App with other options for that book like searching in a book or an audio version of that book."
      ],
      "metadata": {
        "id": "WASyoGxukjY1"
      }
    },
    {
      "cell_type": "markdown",
      "source": [
        "##**Most popular Apps by genre in apple dataset**\n",
        "Here we want to do the same thing for the Google database and determine the most popular Apps by the number of users. According to the columns title of the Google dataset, it seems that the 'Installs' column shows the number of users. First, we try to find out the average of 'Installs' of apps for each genre. We should consider that the format of installs is string and they are in 10,000+, 100,000+, and so on formats. So first we should change it to the proper format of float."
      ],
      "metadata": {
        "id": "C8ttl8ffHAoN"
      }
    },
    {
      "cell_type": "code",
      "source": [
        "genre_instals_dict = {}\n",
        "\n",
        "for genre in google_frequency:\n",
        "  genre_installs = 0\n",
        "  total_apps = 0\n",
        "\n",
        "  for row in google_modified_english_free:\n",
        "    if row[1] == genre:\n",
        "      total_apps += 1\n",
        "      n_installs = row[5].replace('+','') # delete '+' and ',' from the first fromt of Installs\n",
        "      n_installs = float(n_installs.replace(',',''))\n",
        "      genre_installs += n_installs\n",
        "      genre_instals_dict[genre] = genre_installs/total_apps\n",
        "\n",
        "sorted_gener_installs_dict = {k:v for k,v in sorted(genre_instals_dict.items(), key= lambda item:item[1], reverse= True)}\n",
        "sorted_gener_installs_dict"
      ],
      "metadata": {
        "id": "V8DN1VnVaIyk",
        "colab": {
          "base_uri": "https://localhost:8080/"
        },
        "outputId": "a4242027-7423-4488-b7ba-b8129738d63b"
      },
      "execution_count": 35,
      "outputs": [
        {
          "output_type": "execute_result",
          "data": {
            "text/plain": [
              "{'COMMUNICATION': 38456119.167247385,\n",
              " 'VIDEO_PLAYERS': 24727872.452830188,\n",
              " 'SOCIAL': 23253652.127118643,\n",
              " 'PHOTOGRAPHY': 17840110.40229885,\n",
              " 'PRODUCTIVITY': 16787331.344927534,\n",
              " 'GAME': 15588015.603248259,\n",
              " 'TRAVEL_AND_LOCAL': 13984077.710144928,\n",
              " 'ENTERTAINMENT': 11640705.88235294,\n",
              " 'TOOLS': 10801391.298666667,\n",
              " 'NEWS_AND_MAGAZINES': 9549178.467741935,\n",
              " 'BOOKS_AND_REFERENCE': 8767811.894736841,\n",
              " 'SHOPPING': 7036877.311557789,\n",
              " 'PERSONALIZATION': 5201482.6122448975,\n",
              " 'WEATHER': 5074486.197183099,\n",
              " 'HEALTH_AND_FITNESS': 4188821.9853479853,\n",
              " 'MAPS_AND_NAVIGATION': 4056941.7741935486,\n",
              " 'FAMILY': 3695641.8198090694,\n",
              " 'SPORTS': 3638640.1428571427,\n",
              " 'ART_AND_DESIGN': 1986335.0877192982,\n",
              " 'FOOD_AND_DRINK': 1924897.7363636363,\n",
              " 'EDUCATION': 1833495.145631068,\n",
              " 'BUSINESS': 1712290.1474201474,\n",
              " 'LIFESTYLE': 1437816.2687861272,\n",
              " 'FINANCE': 1387692.475609756,\n",
              " 'HOUSE_AND_HOME': 1331540.5616438356,\n",
              " 'DATING': 854028.8303030303,\n",
              " 'COMICS': 817657.2727272727,\n",
              " 'AUTO_AND_VEHICLES': 647317.8170731707,\n",
              " 'LIBRARIES_AND_DEMO': 638503.734939759,\n",
              " 'PARENTING': 542603.6206896552,\n",
              " 'BEAUTY': 513151.88679245283,\n",
              " 'EVENTS': 253542.22222222222,\n",
              " 'MEDICAL': 120550.61980830671}"
            ]
          },
          "metadata": {},
          "execution_count": 35
        }
      ]
    },
    {
      "cell_type": "markdown",
      "source": [
        "From above it is clear that 'COMMUNICATION', 'VIDEO_PLAYERS', and 'SOCIAL' genres have more installs. We explore their apps below. Since we explore the 'Reference\" genre for the Apple dataset, We will explore book-related genres for the Google dataset as well which is the 'BOOKS_AND_REFERENCE' genre."
      ],
      "metadata": {
        "id": "Zbzw-zJVO9fF"
      }
    },
    {
      "cell_type": "code",
      "source": [
        "def sorted_google_genre_apps_installs(genre):\n",
        "  genre_apps_installs = {}\n",
        "\n",
        "  for row in google_modified_english_free:\n",
        "    if row[1] == genre:\n",
        "      n_installs = row[5].replace('+','')\n",
        "      n_installs = float(n_installs.replace(',',''))\n",
        "      genre_apps_installs[row[0]] = n_installs\n",
        "\n",
        "  return({k:v for k,v in sorted(genre_apps_installs.items(), key= lambda item:item[1], reverse=True)})"
      ],
      "metadata": {
        "id": "uy8-XgblQYPE"
      },
      "execution_count": 39,
      "outputs": []
    },
    {
      "cell_type": "code",
      "source": [
        "sorted_google_genre_apps_installs('COMMUNICATION')"
      ],
      "metadata": {
        "colab": {
          "base_uri": "https://localhost:8080/"
        },
        "id": "aG38ofDLUoUg",
        "outputId": "e4cc75ca-fb73-479b-c3f0-5d0833b4b132"
      },
      "execution_count": 40,
      "outputs": [
        {
          "output_type": "execute_result",
          "data": {
            "text/plain": [
              "{'WhatsApp Messenger': 1000000000.0,\n",
              " 'Messenger – Text and Video Chat for Free': 1000000000.0,\n",
              " 'Skype - free IM & video calls': 1000000000.0,\n",
              " 'Google Chrome: Fast & Secure': 1000000000.0,\n",
              " 'Gmail': 1000000000.0,\n",
              " 'Hangouts': 1000000000.0,\n",
              " 'Google Duo - High Quality Video Calls': 500000000.0,\n",
              " 'imo free video calls and chat': 500000000.0,\n",
              " 'LINE: Free Calls & Messages': 500000000.0,\n",
              " 'UC Browser - Fast Download Private & Secure': 500000000.0,\n",
              " 'Viber Messenger': 500000000.0,\n",
              " 'imo beta free calls and text': 100000000.0,\n",
              " 'Android Messages': 100000000.0,\n",
              " 'Who': 100000000.0,\n",
              " 'GO SMS Pro - Messenger, Free Themes, Emoji': 100000000.0,\n",
              " 'Firefox Browser fast & private': 100000000.0,\n",
              " 'Messenger Lite: Free Calls & Messages': 100000000.0,\n",
              " 'Kik': 100000000.0,\n",
              " 'KakaoTalk: Free Calls & Text': 100000000.0,\n",
              " 'Opera Mini - fast web browser': 100000000.0,\n",
              " 'Opera Browser: Fast and Secure': 100000000.0,\n",
              " 'Telegram': 100000000.0,\n",
              " 'Truecaller: Caller ID, SMS spam blocking & Dialer': 100000000.0,\n",
              " 'UC Browser Mini -Tiny Fast Private & Secure': 100000000.0,\n",
              " 'WeChat': 100000000.0,\n",
              " 'Yahoo Mail – Stay Organized': 100000000.0,\n",
              " 'BBM - Free Calls & Messages': 100000000.0,\n",
              " 'Contacts': 50000000.0,\n",
              " 'free video calls and chat': 50000000.0,\n",
              " 'Dolphin Browser - Fast, Private & Adblock🐬': 50000000.0,\n",
              " 'Mail.Ru - Email App': 50000000.0,\n",
              " 'Azar': 50000000.0,\n",
              " 'CM Browser - Ad Blocker , Fast Download , Privacy': 50000000.0,\n",
              " 'Zalo – Video Call': 50000000.0,\n",
              " 'Messenger for SMS': 10000000.0,\n",
              " 'Browser 4G': 10000000.0,\n",
              " 'MegaFon Dashboard': 10000000.0,\n",
              " 'ZenUI Dialer & Contacts': 10000000.0,\n",
              " 'Cricket Visual Voicemail': 10000000.0,\n",
              " 'Xperia Link™': 10000000.0,\n",
              " 'TouchPal Keyboard - Fun Emoji & Android Keyboard': 10000000.0,\n",
              " 'AT&T Visual Voicemail': 10000000.0,\n",
              " 'GMX Mail': 10000000.0,\n",
              " 'Omlet Chat': 10000000.0,\n",
              " 'chomp SMS': 10000000.0,\n",
              " 'Glide - Video Chat Messenger': 10000000.0,\n",
              " 'Text SMS': 10000000.0,\n",
              " 'Talkray - Free Calls & Texts': 10000000.0,\n",
              " 'GroupMe': 10000000.0,\n",
              " 'Contacts+': 10000000.0,\n",
              " 'ExDialer - Dialer & Contacts': 10000000.0,\n",
              " 'Hiya - Caller ID & Block': 10000000.0,\n",
              " 'Mr. Number-Block calls & spam': 10000000.0,\n",
              " 'Calls Blacklist - Call Blocker': 10000000.0,\n",
              " 'myMail – Email for Hotmail, Gmail and Outlook Mail': 10000000.0,\n",
              " 'GO Notifier': 10000000.0,\n",
              " 'Discord - Chat for Gamers': 10000000.0,\n",
              " 'Talkatone: Free Texts, Calls & Phone Number': 10000000.0,\n",
              " 'Free WiFi Connect': 10000000.0,\n",
              " 'Opera Mini browser beta': 10000000.0,\n",
              " 'Psiphon Pro - The Internet Freedom VPN': 10000000.0,\n",
              " 'ICQ — Video Calls & Chat Messenger': 10000000.0,\n",
              " 'Portable Wi-Fi hotspot': 10000000.0,\n",
              " 'WhatsApp Business': 10000000.0,\n",
              " 'WhatsCall Free Global Phone Call App & Cheap Calls': 10000000.0,\n",
              " 'Free Adblocker Browser - Adblock & Popup Blocker': 10000000.0,\n",
              " 'Adblock Browser for Android': 10000000.0,\n",
              " 'Puffin Web Browser': 10000000.0,\n",
              " 'Google Voice': 10000000.0,\n",
              " 'Google Allo': 10000000.0,\n",
              " 'WEB.DE Mail': 10000000.0,\n",
              " 'CallApp: Caller ID, Blocker & Phone Call Recorder': 10000000.0,\n",
              " 'Whoscall - Caller ID & Block': 10000000.0,\n",
              " 'DU Browser—Browse fast & fun': 10000000.0,\n",
              " 'Orfox: Tor Browser for Android': 10000000.0,\n",
              " 'Voxer Walkie Talkie Messenger': 10000000.0,\n",
              " 'Hangouts Dialer - Call Phones': 10000000.0,\n",
              " 'My Tele2': 5000000.0,\n",
              " 'Call Free – Free Call': 5000000.0,\n",
              " 'Web Browser & Explorer': 5000000.0,\n",
              " 'Skype Lite - Free Video Call & Chat': 5000000.0,\n",
              " 'My Vodacom SA': 5000000.0,\n",
              " 'Microsoft Edge': 5000000.0,\n",
              " 'Calls & Text by Mo+': 5000000.0,\n",
              " 'Full Screen Caller ID': 5000000.0,\n",
              " 'CIA - Caller ID & Call Blocker': 5000000.0,\n",
              " 'Call Control - Call Blocker': 5000000.0,\n",
              " 'Sync.ME – Caller ID & Block': 5000000.0,\n",
              " 'K-9 Mail': 5000000.0,\n",
              " 'Daum Mail - Next Mail': 5000000.0,\n",
              " 'JusTalk - Free Video Calls and Fun Video Chat': 5000000.0,\n",
              " 'AT&T Call Protect': 5000000.0,\n",
              " 'Brave Browser: Fast AdBlocker': 5000000.0,\n",
              " 'Ear Agent: Super Hearing': 5000000.0,\n",
              " 'Bluetooth Auto Connect': 5000000.0,\n",
              " 'Chrome Dev': 5000000.0,\n",
              " 'CM Transfer - Share any files with friends nearby': 5000000.0,\n",
              " 'Your Freedom VPN Client': 5000000.0,\n",
              " 'Caller ID & Call Block - DU Caller': 5000000.0,\n",
              " 'TracFone My Account': 1000000.0,\n",
              " 'My magenta': 1000000.0,\n",
              " 'Seznam.cz': 1000000.0,\n",
              " 'Messaging+ SMS, MMS Free': 1000000.0,\n",
              " 'mysms SMS Text Messaging Sync': 1000000.0,\n",
              " '2ndLine - Second Phone Number': 1000000.0,\n",
              " 'Ninesky Browser': 1000000.0,\n",
              " 'Ghostery Privacy Browser': 1000000.0,\n",
              " 'InBrowser - Incognito Browsing': 1000000.0,\n",
              " 'PHONE for Google Voice & GTalk': 1000000.0,\n",
              " 'Safest Call Blocker': 1000000.0,\n",
              " 'Should I Answer?': 1000000.0,\n",
              " 'RocketDial Dialer & Contacts': 1000000.0,\n",
              " 'True Contact - Real Caller ID': 1000000.0,\n",
              " 'Video Caller Id': 1000000.0,\n",
              " 'Burner - Free Phone Number': 1000000.0,\n",
              " 'Caller ID +': 1000000.0,\n",
              " 'Email TypeApp - Mail App': 1000000.0,\n",
              " 'All Email Providers': 1000000.0,\n",
              " 'Newton Mail - Email App for Gmail, Outlook, IMAP': 1000000.0,\n",
              " 'mail.com mail': 1000000.0,\n",
              " 'Vonage Mobile® Call Video Text': 1000000.0,\n",
              " 'AntennaPict β': 1000000.0,\n",
              " 'AT&T Messages for Tablet': 1000000.0,\n",
              " 'Adblock Plus for Samsung Internet - Browse safe.': 1000000.0,\n",
              " 'AW - free video calls and chat': 1000000.0,\n",
              " 'BBMoji - Your personalized BBM Stickers': 1000000.0,\n",
              " 'SW-100.tch by Callstel': 1000000.0,\n",
              " 'Tiny Call Confirm': 1000000.0,\n",
              " 'CB Radio Chat - for friends!': 1000000.0,\n",
              " 'Virtual Walkie Talkie': 1000000.0,\n",
              " 'ClanPlay: Community and Tools for Gamers': 1000000.0,\n",
              " 'My Vodafone (GR)': 1000000.0,\n",
              " 'DW Contacts & Phone & Dialer': 1000000.0,\n",
              " 'Call Blocker - Blacklist, SMS Blocker': 1000000.0,\n",
              " 'Web Browser for Android': 1000000.0,\n",
              " 'Lite for Facebook Messenger': 1000000.0,\n",
              " 'Wi-Fi Auto-connect': 1000000.0,\n",
              " 'WeFi - Free Fast WiFi Connect & Find Wi-Fi Map': 1000000.0,\n",
              " 'Firefox Focus: The privacy browser': 1000000.0,\n",
              " 'Lightning Web Browser': 500000.0,\n",
              " 'Web Browser': 500000.0,\n",
              " 'SolMail - All-in-One email app': 500000.0,\n",
              " 'LokLok: Draw on a Lock Screen': 500000.0,\n",
              " 'U - Webinars, Meetings & Messenger': 500000.0,\n",
              " 'BD Data Plan (3G & 4G)': 500000.0,\n",
              " 'Talkie - Wi-Fi Calling, Chats, File Sharing': 500000.0,\n",
              " 'TownWiFi | Wi-Fi Everywhere': 500000.0,\n",
              " 'FreedomPop Messaging Phone/SIM': 500000.0,\n",
              " 'Antillean Gold Telegram (original version)': 100000.0,\n",
              " 'K-@ Mail - Email App': 100000.0,\n",
              " 'M star Dialer': 100000.0,\n",
              " 'T-Mobile DIGITS': 100000.0,\n",
              " 'PlacarTv Futebol Ao Vivo': 100000.0,\n",
              " 'WiFi Access Point (hotspot)': 100000.0,\n",
              " 'Baby Monitor AV': 100000.0,\n",
              " 'AZ Browser. Private & Download': 100000.0,\n",
              " 'BT MeetMe with Dolby Voice': 100000.0,\n",
              " 'CB On Mobile': 100000.0,\n",
              " 'Channel 19': 100000.0,\n",
              " 'QRZ Assistant': 100000.0,\n",
              " 'Morse Code Reader': 100000.0,\n",
              " 'Goodbox - Mega App': 100000.0,\n",
              " 'Everbridge': 100000.0,\n",
              " 'Portable Wi-Fi hotspot Free': 100000.0,\n",
              " 'N-Com Wizard': 50000.0,\n",
              " 'X Browser': 50000.0,\n",
              " 'BD Internet Packages (Updated)': 50000.0,\n",
              " 'My BF App': 50000.0,\n",
              " 'BT Messenger': 50000.0,\n",
              " 'AudioBT: BT audio GPS/SMS/Text': 50000.0,\n",
              " 'IZ2UUF Morse Koch CW': 50000.0,\n",
              " '3G DZ Configuration': 50000.0,\n",
              " 'Free Wi-fi HotspoT': 50000.0,\n",
              " 'HipChat - beta version': 50000.0,\n",
              " 'Mail1Click - Secure Mail': 10000.0,\n",
              " 'm:go BiH': 10000.0,\n",
              " '/u/app': 10000.0,\n",
              " '[verify-U] VideoIdent': 10000.0,\n",
              " 'Ad Blocker Turbo - Adblocker Browser': 10000.0,\n",
              " 'Access Point Names': 10000.0,\n",
              " 'ClanHQ': 10000.0,\n",
              " 'BD Dialer': 10000.0,\n",
              " 'BF Browser by Betfilter - Stop Gambling Today!': 10000.0,\n",
              " 'DMR BrandMeister Tool': 10000.0,\n",
              " 'BT One Phone Mobile App': 10000.0,\n",
              " 'Feel Performer': 10000.0,\n",
              " 'Pocket Prefix Plus': 10000.0,\n",
              " 'Ham Radio Prefixes': 10000.0,\n",
              " 'Ring': 10000.0,\n",
              " 'Deaf World DW': 10000.0,\n",
              " 'Eg Call': 10000.0,\n",
              " 'Inbox.eu': 10000.0,\n",
              " 'EZ Wifi Notification': 10000.0,\n",
              " 'Jazz Wi-Fi': 10000.0,\n",
              " 'K-9 Material (unofficial)': 5000.0,\n",
              " 'AG Contacts, Lite edition': 5000.0,\n",
              " 'AK Phone': 5000.0,\n",
              " 'BD Live Call': 5000.0,\n",
              " 'BT One Voice mobile access': 5000.0,\n",
              " 'retteMi.ch': 5000.0,\n",
              " 'mail.co.uk Mail': 5000.0,\n",
              " 'CS Browser Beta': 5000.0,\n",
              " 'Learn Morse Code - G0HYN Learn Morse': 5000.0,\n",
              " 'DM for WhatsApp': 5000.0,\n",
              " 'DM Talk New': 5000.0,\n",
              " 'Ham DX Cluster & Spots Finder': 5000.0,\n",
              " 'Mircules DX Cluster Lite': 5000.0,\n",
              " 'love sms good morning': 5000.0,\n",
              " 'Council Voting Calculator': 5000.0,\n",
              " 'Sat-Fi': 5000.0,\n",
              " 'AU Call Blocker - Block Unwanted Calls Texts 2018': 1000.0,\n",
              " 'AV Phone': 1000.0,\n",
              " 'BH Mail': 1000.0,\n",
              " 'BK Chat': 1000.0,\n",
              " 'BN MALLORCA Radio': 1000.0,\n",
              " 'BQ Partners': 1000.0,\n",
              " 'CQ-Mobile': 1000.0,\n",
              " 'CS Customizer': 1000.0,\n",
              " 'CS Browser | #1 & BEST BROWSER': 1000.0,\n",
              " 'SMS Sender - sluzba.cz': 1000.0,\n",
              " 'cluster.dk': 1000.0,\n",
              " 'DM Tracker': 1000.0,\n",
              " 'Call Blocker & Blacklist': 1000.0,\n",
              " 'ReadyOp DT': 1000.0,\n",
              " 'BlueDV AMBE': 1000.0,\n",
              " 'EU Council': 1000.0,\n",
              " 'FC Browser - Focus Privacy Browser': 1000.0,\n",
              " 'Sat-Fi Voice': 1000.0,\n",
              " 'FO AIRBUS TLSE': 1000.0,\n",
              " 'Traffic signs BD': 500.0,\n",
              " 'ATC Unico BS': 500.0,\n",
              " 'CQ-Alert': 500.0,\n",
              " 'CW BLE Peripheral Simulator': 500.0,\n",
              " 'Rádio Sol Nascente DF': 500.0,\n",
              " 'ES-1': 500.0,\n",
              " 'Have your say on Europe': 500.0,\n",
              " 'Best Auto Call Recorder Free': 500.0,\n",
              " \"Bee'ah Employee App\": 100.0,\n",
              " 'tournaments and more.aj.2': 100.0,\n",
              " 'Aj.Petra': 100.0,\n",
              " 'Katalogen.ax': 100.0,\n",
              " 'BV': 100.0,\n",
              " 'CF Chat: Connecting Friends': 100.0,\n",
              " 'CJ Browser - Fast & Private': 100.0,\n",
              " 'CJ DVD Rentals': 100.0,\n",
              " 'C W Browser': 100.0,\n",
              " 'CW Bluetooth SPP': 100.0,\n",
              " 'Cy Messenger': 100.0,\n",
              " 'Amadeus GR & CY': 100.0,\n",
              " 'DG Card': 100.0,\n",
              " 'chat dz': 100.0,\n",
              " '[EF]ShoutBox': 100.0,\n",
              " 'EP RSS Reader': 100.0,\n",
              " 'Programi podrške EU': 100.0,\n",
              " 'EHiN-FH conferenceapp': 100.0,\n",
              " 'Carpooling FH Hagenberg': 100.0,\n",
              " 'MARKET FO': 100.0,\n",
              " 'FO OP St-Nazaire': 100.0,\n",
              " 'FO SODEXO': 100.0,\n",
              " 'FO RCBT': 100.0,\n",
              " 'FO Interim': 100.0,\n",
              " 'FO PSA Sept-Fons': 100.0,\n",
              " 'FO STELIA Méaulte': 100.0,\n",
              " 'FO AIRBUS Nantes': 100.0,\n",
              " 'FP Connect': 100.0,\n",
              " 'AC-BL': 50.0,\n",
              " 'BS-Mobile': 50.0,\n",
              " 'Cb browser': 50.0,\n",
              " 'Hyundai CX Conference': 50.0,\n",
              " 'DK TEL Dialer': 50.0,\n",
              " 'Oklahoma Ag Co-op Council': 10.0,\n",
              " 'Best Browser BD social networking': 10.0,\n",
              " 'BJ - Confidential': 10.0,\n",
              " 'CK Call NEW': 10.0,\n",
              " 'Hlášenírozhlasu.cz': 10.0,\n",
              " 'DK Browser': 10.0,\n",
              " 'DM - The Offical Messaging App': 10.0,\n",
              " 'ei': 10.0,\n",
              " 'EJ messenger': 10.0,\n",
              " 'Ek IRA': 10.0,\n",
              " 'EO Mumbai': 10.0,\n",
              " 'FN Web Radio': 10.0,\n",
              " 'FNH Payment Info': 10.0,\n",
              " 'FP Live': 10.0,\n",
              " 'Of the wall Arapaho bk': 5.0,\n",
              " 'Test Server SMS FA': 5.0,\n",
              " 'BA SALES': 1.0}"
            ]
          },
          "metadata": {},
          "execution_count": 40
        }
      ]
    },
    {
      "cell_type": "code",
      "source": [
        "sorted_google_genre_apps_installs('VIDEO_PLAYERS')"
      ],
      "metadata": {
        "colab": {
          "base_uri": "https://localhost:8080/"
        },
        "id": "TY9mecveUyKo",
        "outputId": "da1a264a-e935-43d0-9c34-0f51fb8f5d38"
      },
      "execution_count": 41,
      "outputs": [
        {
          "output_type": "execute_result",
          "data": {
            "text/plain": [
              "{'YouTube': 1000000000.0,\n",
              " 'Google Play Movies & TV': 1000000000.0,\n",
              " 'MX Player': 500000000.0,\n",
              " 'Motorola Gallery': 100000000.0,\n",
              " 'VLC for Android': 100000000.0,\n",
              " 'Dubsmash': 100000000.0,\n",
              " 'VivaVideo - Video Editor & Photo Movie': 100000000.0,\n",
              " 'VideoShow-Video Editor, Video Maker, Beauty Camera': 100000000.0,\n",
              " 'Motorola FM Radio': 100000000.0,\n",
              " 'Vote for': 50000000.0,\n",
              " 'Vigo Video': 50000000.0,\n",
              " 'MiniMovie - Free Video and Slideshow Editor': 50000000.0,\n",
              " 'Samsung Video Library': 50000000.0,\n",
              " 'LIKE – Magic Video Maker & Community': 50000000.0,\n",
              " 'DU Recorder – Screen Recorder, Video Editor, Live': 50000000.0,\n",
              " 'KineMaster – Pro Video Editor': 50000000.0,\n",
              " 'VMate': 50000000.0,\n",
              " 'HD Video Downloader : 2018 Best video mate': 50000000.0,\n",
              " 'Ringdroid': 50000000.0,\n",
              " 'Video Downloader': 10000000.0,\n",
              " 'Video Player All Format': 10000000.0,\n",
              " 'Code': 10000000.0,\n",
              " 'Music - Mp3 Player': 10000000.0,\n",
              " 'YouTube Studio': 10000000.0,\n",
              " 'video player for android': 10000000.0,\n",
              " 'HTC Service － DLNA': 10000000.0,\n",
              " 'HTC Gallery': 10000000.0,\n",
              " 'PowerDirector Video Editor App: 4K, Slow Mo & More': 10000000.0,\n",
              " 'Cartoon Network App': 10000000.0,\n",
              " 'Omlet Arcade - Stream, Meet, Play': 10000000.0,\n",
              " 'Magisto Video Editor & Maker': 10000000.0,\n",
              " 'Mobizen Screen Recorder for SAMSUNG': 10000000.0,\n",
              " 'Ustream': 10000000.0,\n",
              " 'All Video Downloader': 10000000.0,\n",
              " 'FilmoraGo - Free Video Editor': 10000000.0,\n",
              " 'iMediaShare – Photos & Music': 10000000.0,\n",
              " 'AZ Screen Recorder - No Root': 10000000.0,\n",
              " 'AfreecaTV': 10000000.0,\n",
              " 'BSPlayer FREE': 10000000.0,\n",
              " 'BitTorrent®- Torrent Downloads': 10000000.0,\n",
              " 'Video Downloader - for Instagram Repost App': 10000000.0,\n",
              " 'Quik – Free Video Editor for photos, clips, music': 10000000.0,\n",
              " 'FrostWire: Torrent Downloader & Music Player': 10000000.0,\n",
              " 'Inst Download - Video & Photo': 10000000.0,\n",
              " 'Naruto Shippuden - Watch Free!': 10000000.0,\n",
              " 'YouCut - Video Editor & Video Maker, No Watermark': 5000000.0,\n",
              " 'HTC Service—Video Player': 5000000.0,\n",
              " 'Droid Zap by Motorola': 5000000.0,\n",
              " 'Video Editor': 5000000.0,\n",
              " 'Adobe Premiere Clip': 5000000.0,\n",
              " 'ActionDirector Video Editor - Edit Videos Fast': 5000000.0,\n",
              " 'WiFi Baby Monitor - NannyCam': 5000000.0,\n",
              " 'All Video Downloader 2018': 1000000.0,\n",
              " 'HD Video Player': 1000000.0,\n",
              " 'Iqiyi (for tablet)': 1000000.0,\n",
              " 'XX HD Video downloader-Free Video Downloader': 1000000.0,\n",
              " 'OBJECTIVE': 1000000.0,\n",
              " 'HD Movie Video Player': 1000000.0,\n",
              " 'Video Editor,Crop Video,Movie Video,Music,Effects': 1000000.0,\n",
              " 'VPlayer': 1000000.0,\n",
              " 'OnePlus Gallery': 1000000.0,\n",
              " 'Play Tube': 1000000.0,\n",
              " 'video player': 1000000.0,\n",
              " 'G Guide Program Guide (SOFTBANK EMOBILE WILLCOM version)': 1000000.0,\n",
              " 'Video.Guru - Video Maker': 1000000.0,\n",
              " 'Video Status': 1000000.0,\n",
              " 'SVT Play': 1000000.0,\n",
              " 'BluTV': 1000000.0,\n",
              " 'Tencent Video - Supporting the whole network': 1000000.0,\n",
              " 'VUE: video editor & camcorder': 1000000.0,\n",
              " 'Mobizen Screen Recorder for LG - Record, Capture': 1000000.0,\n",
              " 'VidPlay': 1000000.0,\n",
              " 'Multiple Videos at Same Time': 1000000.0,\n",
              " 'AX Player -Nougat Video Player': 1000000.0,\n",
              " 'Funny videos for whatsapp': 1000000.0,\n",
              " 'iPlayIT for YouTube VR Player': 1000000.0,\n",
              " 'BSPlayer ARMv7 VFP CPU support': 1000000.0,\n",
              " 'Vuze Torrent Downloader': 1000000.0,\n",
              " 'AndStream - Streaming Download': 1000000.0,\n",
              " 'DS photo': 1000000.0,\n",
              " 'DS video': 1000000.0,\n",
              " 'DU Privacy-hide apps、sms、file': 1000000.0,\n",
              " 'iSmart DV': 1000000.0,\n",
              " 'EZCast – Cast Media to TV': 1000000.0,\n",
              " 'HD Video Download for Facebook': 1000000.0,\n",
              " 'Video Player All Format for Android': 500000.0,\n",
              " 'CJ VLC HD Remote (+ Stream)': 500000.0,\n",
              " 'DR TV': 500000.0,\n",
              " 'GoPlus Cam': 500000.0,\n",
              " 'Free TV series': 100000.0,\n",
              " 'amazer - Global Kpop Video Community': 100000.0,\n",
              " \"Sketch 'n' go\": 100000.0,\n",
              " 'AB Repeat Player': 100000.0,\n",
              " 'Ez Screen Recorder (no ad)': 100000.0,\n",
              " 'AW Screen Recorder No Root': 100000.0,\n",
              " 'BGCN TV': 100000.0,\n",
              " 'Nero AirBurn': 100000.0,\n",
              " 'GoAction': 100000.0,\n",
              " 'ES Audio Player ( Shortcut )': 100000.0,\n",
              " 'EZ Web Video Cast | Chromecast': 100000.0,\n",
              " 'Video Downloader for FB : Video Download with Link': 100000.0,\n",
              " 'AX Video Player': 50000.0,\n",
              " 'bgtime.tv': 50000.0,\n",
              " 'BR Series': 50000.0,\n",
              " 'ACTIVEON CX & CX GOLD': 50000.0,\n",
              " 'dv Prompter': 50000.0,\n",
              " 'ES-IPTV': 50000.0,\n",
              " 'Casper Ssinema': 10000.0,\n",
              " 'W Box VMS': 10000.0,\n",
              " 'HD Video Player (wmv,avi,mp4,flv,av,mpg,mkv)2017': 10000.0,\n",
              " 'EML UPnP-AV Control Point': 10000.0,\n",
              " 'BK News Channel': 10000.0,\n",
              " 'BS player remote': 10000.0,\n",
              " 'DG UPnP Player Free': 10000.0,\n",
              " 'DG Video Editor': 10000.0,\n",
              " 'MelifeCam-M': 10000.0,\n",
              " 'Downvids Helper - One touch DW': 10000.0,\n",
              " 'ek tuhi': 10000.0,\n",
              " 'EZ-SEE': 10000.0,\n",
              " 'EZ TV Player': 10000.0,\n",
              " 'EZ Usenet for Easynews®': 10000.0,\n",
              " 'HD VideoDownlaoder For Fb : XXVideo Downloader': 10000.0,\n",
              " 'M-Sight Pro': 5000.0,\n",
              " 'Q-See Plus': 5000.0,\n",
              " 'W Box VMS HD': 5000.0,\n",
              " 'A-B repeater': 5000.0,\n",
              " 'HD Video Player - Video & MP3 Player | AV Player |': 5000.0,\n",
              " 'Ay': 5000.0,\n",
              " 'BG video - floating video - background video': 5000.0,\n",
              " 'BR Video Player': 5000.0,\n",
              " 'DV Lottery Photo': 5000.0,\n",
              " '4K VIDEO PLAYER ULTRA HD': 5000.0,\n",
              " 'DZ Popup Video Player': 5000.0,\n",
              " 'EF Sidekick': 5000.0,\n",
              " 'Furrion ES Control': 5000.0,\n",
              " 'Videos downloader for Facebook:fast fb video saver': 5000.0,\n",
              " 'AV-IPTV': 1000.0,\n",
              " 'Ay Sabz Gunbad Waly': 1000.0,\n",
              " 'Movie Downloader Torrent : Az Torrent': 1000.0,\n",
              " 'BC iptv player': 1000.0,\n",
              " 'Music for Youtube - Tube Music BG, Red+': 1000.0,\n",
              " 'CINE BR': 1000.0,\n",
              " 'BZ Langenthaler Tagblatt': 1000.0,\n",
              " 'EZ game screen recorder with audio 1080P': 1000.0,\n",
              " 'Video Wallpaper Show': 500.0,\n",
              " 'A-Z Screen Recorder -': 500.0,\n",
              " 'YourTube Video Views BG': 500.0,\n",
              " 'CJ Camcorder': 500.0,\n",
              " 'CX Monthly Tech News': 500.0,\n",
              " 'DG Screen Recorder': 500.0,\n",
              " 'AJ Player': 100.0,\n",
              " 'AK Lodi Films': 100.0,\n",
              " 'Bc Vod': 100.0,\n",
              " 'BG MUSIC PLAYER - MUSIC PLAYER': 100.0,\n",
              " 'Bx-WiFi-GI': 100.0,\n",
              " 'EC MANAGER': 100.0,\n",
              " 'List iptv FR': 100.0,\n",
              " 'CI Stream': 10.0,\n",
              " 'Art of F J Taylor': 10.0}"
            ]
          },
          "metadata": {},
          "execution_count": 41
        }
      ]
    },
    {
      "cell_type": "code",
      "source": [
        "sorted_google_genre_apps_installs('SOCIAL')"
      ],
      "metadata": {
        "colab": {
          "base_uri": "https://localhost:8080/"
        },
        "id": "yMGhSuNOU_hd",
        "outputId": "5e66557c-cbf2-46f9-fcac-a5748145a33b"
      },
      "execution_count": 42,
      "outputs": [
        {
          "output_type": "execute_result",
          "data": {
            "text/plain": [
              "{'Facebook': 1000000000.0,\n",
              " 'Google+': 1000000000.0,\n",
              " 'Instagram': 1000000000.0,\n",
              " 'Facebook Lite': 500000000.0,\n",
              " 'Snapchat': 500000000.0,\n",
              " 'Tumblr': 100000000.0,\n",
              " 'Pinterest': 100000000.0,\n",
              " 'Badoo - Free Chat & Dating App': 100000000.0,\n",
              " 'Tango - Live Video Broadcast': 100000000.0,\n",
              " 'LinkedIn': 100000000.0,\n",
              " 'Tik Tok - including musical.ly': 100000000.0,\n",
              " 'BIGO LIVE - Live Stream': 100000000.0,\n",
              " 'VK': 100000000.0,\n",
              " 'ooVoo Video Calls, Messaging & Stories': 50000000.0,\n",
              " 'MeetMe: Chat & Meet New People': 50000000.0,\n",
              " 'Zello PTT Walkie Talkie': 50000000.0,\n",
              " 'POF Free Dating App': 50000000.0,\n",
              " 'SKOUT - Meet, Chat, Go Live': 50000000.0,\n",
              " 'TextNow - free text + calls': 10000000.0,\n",
              " 'LiveMe - Video chat, new friends, and make money': 10000000.0,\n",
              " 'HTC Social Plugin - Facebook': 10000000.0,\n",
              " 'Quora': 10000000.0,\n",
              " 'Kate Mobile for VK': 10000000.0,\n",
              " 'Text Me: Text Free, Call Free, Second Phone Number': 10000000.0,\n",
              " 'Text free - Free Text + Call': 10000000.0,\n",
              " 'YouNow: Live Stream Video Chat': 10000000.0,\n",
              " 'We Heart It': 10000000.0,\n",
              " 'Path': 10000000.0,\n",
              " 'SayHi Chat, Meet New People': 10000000.0,\n",
              " 'Tapatalk - 100,000+ Forums': 10000000.0,\n",
              " 'LOVOO': 10000000.0,\n",
              " 'Jaumo Dating, Flirt & Live Video': 10000000.0,\n",
              " 'textPlus: Free Text & Calls': 10000000.0,\n",
              " 'magicApp Calling & Messaging': 10000000.0,\n",
              " 'Dating App, Flirt & Chat : W-Match': 10000000.0,\n",
              " 'Tagged - Meet, Chat & Dating': 10000000.0,\n",
              " 'Mico- Stranger Chat Random video Chat, Live, Meet': 10000000.0,\n",
              " 'Waplog - Free Chat, Dating App, Meet Singles': 10000000.0,\n",
              " 'Legend - Animate Text in Video': 10000000.0,\n",
              " 'Find My Friends': 10000000.0,\n",
              " 'Grindr - Gay chat': 10000000.0,\n",
              " 'Periscope - Live Video': 10000000.0,\n",
              " 'Free phone calls, free texting SMS on free number': 10000000.0,\n",
              " 'Phone Tracker : Family Locator': 10000000.0,\n",
              " 'Amino: Communities and Chats': 10000000.0,\n",
              " 'Messages, Text and Video Chat for Messenger': 10000000.0,\n",
              " 'Messenger Messenger': 10000000.0,\n",
              " 'Messenger': 10000000.0,\n",
              " 'Telegram X': 5000000.0,\n",
              " 'Hide Something - Photo, Video': 5000000.0,\n",
              " 'Web Browser & Fast Explorer': 5000000.0,\n",
              " 'VidStatus app - Status Videos & Status Downloader': 5000000.0,\n",
              " 'SPARK - Live random video chat & meet new people': 5000000.0,\n",
              " 'Meet – Talk to Strangers Using Random Video Chat': 5000000.0,\n",
              " 'Text Free: WiFi Calling App': 5000000.0,\n",
              " 'Whisper': 5000000.0,\n",
              " 'Blogger': 5000000.0,\n",
              " 'Timehop': 5000000.0,\n",
              " 'Nextdoor - Local neighborhood news & classifieds': 5000000.0,\n",
              " 'Meetup': 5000000.0,\n",
              " 'Instachat 😜': 5000000.0,\n",
              " 'Fame Boom for Real Followers, Likes': 5000000.0,\n",
              " 'HOLLA Live: Meet New People via Random Video Chat': 5000000.0,\n",
              " 'Hornet - Gay Social Network': 5000000.0,\n",
              " 'Who Viewed My Facebook Profile - Stalkers Visitors': 5000000.0,\n",
              " 'FunForMobile Ringtones & Chat': 5000000.0,\n",
              " 'Frim: get new friends on local chat rooms': 5000000.0,\n",
              " 'The Messenger App': 1000000.0,\n",
              " 'Messenger Pro': 1000000.0,\n",
              " 'Free Messages, Video, Chat,Text for Messenger Plus': 1000000.0,\n",
              " 'Jodel - The Hyperlocal App': 1000000.0,\n",
              " 'Love Sticker': 1000000.0,\n",
              " 'Love Images': 1000000.0,\n",
              " 'Facebook Local': 1000000.0,\n",
              " 'MobilePatrol Public Safety App': 1000000.0,\n",
              " '💘 WhatsLov: Smileys of love, stickers and GIF': 1000000.0,\n",
              " 'Family GPS tracker KidControl + GPS by SMS Locator': 1000000.0,\n",
              " 'Moment': 1000000.0,\n",
              " 'TwitCasting Live': 1000000.0,\n",
              " 'Banjo': 1000000.0,\n",
              " 'Frontback - Social Photos': 1000000.0,\n",
              " 'Couple - Relationship App': 1000000.0,\n",
              " 'B-Messenger Video Chat': 1000000.0,\n",
              " 'FollowMeter for Instagram': 1000000.0,\n",
              " 'pixiv': 1000000.0,\n",
              " 'U LIVE – Video Chat & Stream': 1000000.0,\n",
              " 'VMate Lite - Funny Short Videos Social Network': 1000000.0,\n",
              " 'GUYZ - Gay Chat & Gay Dating': 1000000.0,\n",
              " 'Snaappy – 3D fun AR core communication platform': 1000000.0,\n",
              " 'Lesbian Chat & Dating - SPICY': 1000000.0,\n",
              " 'BOO! - Next Generation Messenger': 1000000.0,\n",
              " 'Wishbone - Compare Anything': 1000000.0,\n",
              " 'Fiesta by Tango - Find, Meet and Make New Friends': 1000000.0,\n",
              " '+Download 4 Instagram Twitter': 1000000.0,\n",
              " 'EZ Video Download for Facebook': 1000000.0,\n",
              " 'All Social Networks': 1000000.0,\n",
              " 'Facebook Creator': 1000000.0,\n",
              " 'Friendly for Facebook': 1000000.0,\n",
              " 'Faster for Facebook Lite': 1000000.0,\n",
              " 'Stickers for Facebook': 1000000.0,\n",
              " 'Web Browser ( Fast & Secure Web Explorer)': 500000.0,\n",
              " \"Bloglovin'\": 500000.0,\n",
              " 'Stream - Live Video Community': 500000.0,\n",
              " 'Mirrativ: Live Stream Any App': 500000.0,\n",
              " 'Greeting Cards & Wishes': 500000.0,\n",
              " 'Verdad o Reto': 500000.0,\n",
              " 'Gayvox - Gay Lesbian Bi Dating': 500000.0,\n",
              " 'Daddyhunt: Gay Dating': 500000.0,\n",
              " 'Fake Chat (Direct Message)': 500000.0,\n",
              " 'Qeek for Instagram - Zoom profile insta DP': 500000.0,\n",
              " 'Swift for Facebook Lite': 500000.0,\n",
              " 'Puffin for Facebook': 500000.0,\n",
              " 'Profile Tracker - Who Viewed My Facebook Profile': 500000.0,\n",
              " 'Pink Color for Facebook': 500000.0,\n",
              " 'Social network all in one 2018': 100000.0,\n",
              " 'The Video Messenger App': 100000.0,\n",
              " 'Blogaway for Android (Blogger)': 100000.0,\n",
              " 'Patook - make platonic friends': 100000.0,\n",
              " 'uCiC- Videos and Photos on demand': 100000.0,\n",
              " 'KDRAMA Amino for K-Drama Fans': 100000.0,\n",
              " 'KPOP Amino for K-Pop Entertainment': 100000.0,\n",
              " 'See U - Random video chat, video chat': 100000.0,\n",
              " 'What U See': 100000.0,\n",
              " 'Meet U - Get Friends for Snapchat, Kik & Instagram': 100000.0,\n",
              " 'YAY - TBH': 100000.0,\n",
              " 'Dr B R Ambedkar (Jai Bhim)': 100000.0,\n",
              " 'Dr. B.R.Ambedkar': 100000.0,\n",
              " 'Dating.dk': 100000.0,\n",
              " 'DP and Status for WhatsApp 2018': 100000.0,\n",
              " 'MB Notifications for FB (Free)': 100000.0,\n",
              " 'Phoenix - Facebook & Messenger': 100000.0,\n",
              " 'Faster Social for Facebook': 100000.0,\n",
              " 'FutureNet your social app': 100000.0,\n",
              " 'Chat For Strangers - Video Chat': 100000.0,\n",
              " 'Fr Daoud Lamei': 100000.0,\n",
              " 'Golden telegram': 50000.0,\n",
              " 'EXO-L Amino for EXO Fans': 50000.0,\n",
              " 'Undertale AU Amino': 50000.0,\n",
              " 'BT Dating -Find your match, help cupid, be social': 50000.0,\n",
              " 'Hashtags For Likes.co': 50000.0,\n",
              " 'CP Dialer': 50000.0,\n",
              " 'Rande.cz': 50000.0,\n",
              " 'Equestria Amino for MLP': 50000.0,\n",
              " 'Anime et Manga Amino en Français': 50000.0,\n",
              " 'FCB Connect - FC Barcelona': 50000.0,\n",
              " 'Share G - Images Sharing - Wallpapers App': 10000.0,\n",
              " 'Mali J': 10000.0,\n",
              " 'U-Report': 10000.0,\n",
              " 'Jamaa Amino for Animal Jam': 10000.0,\n",
              " 'Au Pair': 10000.0,\n",
              " 'BK Traffic Control cum Chart': 10000.0,\n",
              " 'Daily Murli Saar Widget': 10000.0,\n",
              " 'BT Communicator': 10000.0,\n",
              " 'Digi-TV.ch': 10000.0,\n",
              " 'Cyprus Police': 10000.0,\n",
              " 'DM Me - Chat': 10000.0,\n",
              " 'Best DP and Status': 10000.0,\n",
              " 'Ek Maratha': 10000.0,\n",
              " 'Eddsworld Amino': 10000.0,\n",
              " 'Stickers for Imo, fb, whatsapp': 10000.0,\n",
              " 'Lite Messenger for Facebook Lite': 10000.0,\n",
              " 'Mini for Facebook lite': 10000.0,\n",
              " 'Unlimited Group Links - Whatsapp, FB, Telegram': 10000.0,\n",
              " 'DB Event App': 5000.0,\n",
              " 'DM for IG 😘 - Image & Video Saver for Instagram': 5000.0,\n",
              " 'Dp For Whatsapp': 5000.0,\n",
              " 'Profile Pictures and DP for Whatsapp': 5000.0,\n",
              " 'Dp for Facebook': 5000.0,\n",
              " 'Instant DP Downloader for Instagram': 5000.0,\n",
              " 'DP Display Pictures Life Quotes Motivational GM': 5000.0,\n",
              " 'TN e Sevai TN EB Bill Patta Citta EC Birth All Hub': 5000.0,\n",
              " 'TNEB Bill Online Payment (Tamil)': 5000.0,\n",
              " 'Check Your Visitors on FB ?': 5000.0,\n",
              " 'funny Image Comments for FB': 5000.0,\n",
              " 'H letter images': 1000.0,\n",
              " 'Join R, Community Engagement': 1000.0,\n",
              " 'V Bucks ProTips New': 1000.0,\n",
              " 'eChallan Andhra Pradesh (AP)': 1000.0,\n",
              " 'Media Sosial TNI AU': 1000.0,\n",
              " 'BG LINKED (BGLINKED)': 1000.0,\n",
              " 'Zdravei.BG': 1000.0,\n",
              " 'BGKontakti Bayern BG Kontakti': 1000.0,\n",
              " 'BGKontakti Vienna BG Kontakti': 1000.0,\n",
              " 'BR Chat Bot': 1000.0,\n",
              " 'Black Social': 1000.0,\n",
              " 'CG Districts': 1000.0,\n",
              " 'Students.ch': 1000.0,\n",
              " 'signály.cz': 1000.0,\n",
              " 'DC Comics Amino': 1000.0,\n",
              " 'Noticias DF': 1000.0,\n",
              " 'Auto DM for Twitter 🔥': 1000.0,\n",
              " 'DW Streaming': 1000.0,\n",
              " 'TN EC Online New': 1000.0,\n",
              " 'Sabka Malik Ek Sai': 1000.0,\n",
              " 'European Solidarity Corps': 1000.0,\n",
              " 'Alarm.fo – choose your info': 1000.0,\n",
              " 'iCard BD Plus': 500.0,\n",
              " 'BGKontakti London BG Kontakti': 500.0,\n",
              " 'Br Browser': 500.0,\n",
              " 'DF BugMeNot': 500.0,\n",
              " 'DK Murali': 500.0,\n",
              " 'Downloader plus for FB': 500.0,\n",
              " 'i-share AF/KLM (AFKL ishare)': 100.0,\n",
              " 'Eternal Light AG': 100.0,\n",
              " 'Message AI - Write Better Messages (Free)': 100.0,\n",
              " 'Movement BE': 100.0,\n",
              " 'Discípulos em BH': 100.0,\n",
              " 'Alumni BJ': 100.0,\n",
              " 'Myjob@BM': 100.0,\n",
              " 'Evasion.bz': 100.0,\n",
              " 'CJ Gospel Hour': 100.0,\n",
              " 'GirlTalk.dk': 100.0,\n",
              " 'DM Storage (for twitter)': 100.0,\n",
              " 'DV Statistics': 100.0,\n",
              " 'TN Patta /Chitta /EC New': 100.0,\n",
              " 'Rejoin Your Ex': 100.0,\n",
              " 'Frases Cristianas de Esperanza y Fe': 100.0,\n",
              " 'Naruto & Boruto FR': 100.0,\n",
              " 'UP EB Bill Payment & Details': 50.0,\n",
              " 'EG Way Life': 50.0,\n",
              " 'Coupe Adhémar EY 2017': 50.0,\n",
              " 'FB Advanced Search': 50.0,\n",
              " 'BA 3 Banjarmasin': 10.0,\n",
              " 'bm-Events': 10.0,\n",
              " 'Otto DM': 10.0,\n",
              " 'DN Blog': 10.0,\n",
              " 'News Dz': 10.0,\n",
              " 'quran-DZ': 10.0,\n",
              " 'Hum Ek Hain 2.02': 10.0,\n",
              " 'EO RAIPUR': 10.0,\n",
              " 'Reisedealz.eu': 10.0,\n",
              " 'CB Heroes': 5.0,\n",
              " 'C.P. CERVANTES (TOBARRA)': 5.0,\n",
              " 'BH Connect': 1.0,\n",
              " 'Amleen Ey': 1.0,\n",
              " 'Pekalongan CJ': 0.0}"
            ]
          },
          "metadata": {},
          "execution_count": 42
        }
      ]
    },
    {
      "cell_type": "code",
      "source": [
        "sorted_google_genre_apps_installs('BOOKS_AND_REFERENCE')"
      ],
      "metadata": {
        "colab": {
          "base_uri": "https://localhost:8080/"
        },
        "id": "ZVvMYCvvVAaa",
        "outputId": "b819396d-c1c9-4ea7-e949-575af4b64296"
      },
      "execution_count": 43,
      "outputs": [
        {
          "output_type": "execute_result",
          "data": {
            "text/plain": [
              "{'Google Play Books': 1000000000.0,\n",
              " 'Bible': 100000000.0,\n",
              " 'Amazon Kindle': 100000000.0,\n",
              " 'Wattpad 📖 Free Books': 100000000.0,\n",
              " 'Audiobooks from Audible': 100000000.0,\n",
              " 'Wikipedia': 10000000.0,\n",
              " 'Cool Reader': 10000000.0,\n",
              " 'FBReader: Favorite Book Reader': 10000000.0,\n",
              " 'HTC Help': 10000000.0,\n",
              " 'Moon+ Reader': 10000000.0,\n",
              " 'Aldiko Book Reader': 10000000.0,\n",
              " 'Al-Quran (Free)': 10000000.0,\n",
              " 'Al Quran Indonesia': 10000000.0,\n",
              " \"Al'Quran Bahasa Indonesia\": 10000000.0,\n",
              " 'Quran for Android': 10000000.0,\n",
              " 'Dictionary.com: Find Definitions for English Words': 10000000.0,\n",
              " 'English Dictionary - Offline': 10000000.0,\n",
              " 'NOOK: Read eBooks & Magazines': 10000000.0,\n",
              " 'Dictionary': 10000000.0,\n",
              " 'Spanish English Translator': 10000000.0,\n",
              " 'Dictionary - Merriam-Webster': 10000000.0,\n",
              " 'JW Library': 10000000.0,\n",
              " 'Oxford Dictionary of English : Free': 10000000.0,\n",
              " 'English Hindi Dictionary': 10000000.0,\n",
              " 'AlReader -any text book reader': 5000000.0,\n",
              " 'Ebook Reader': 5000000.0,\n",
              " 'Read books online': 5000000.0,\n",
              " 'Ancestry': 5000000.0,\n",
              " 'Dictionary - WordWeb': 5000000.0,\n",
              " '50000 Free eBooks & Free AudioBooks': 5000000.0,\n",
              " 'Al Quran : EAlim - Translations & MP3 Offline': 5000000.0,\n",
              " 'Bible KJV': 5000000.0,\n",
              " 'English to Hindi Dictionary': 5000000.0,\n",
              " 'Book store': 1000000.0,\n",
              " 'Free Books - Spirit Fanfiction and Stories': 1000000.0,\n",
              " 'FamilySearch Tree': 1000000.0,\n",
              " 'Cloud of Books': 1000000.0,\n",
              " 'ReadEra – free ebook reader': 1000000.0,\n",
              " 'eBoox: book reader fb2 epub zip': 1000000.0,\n",
              " 'All Maths Formulas': 1000000.0,\n",
              " 'English-Myanmar Dictionary': 1000000.0,\n",
              " 'Golden Dictionary (EN-AR)': 1000000.0,\n",
              " 'All Language Translator Free': 1000000.0,\n",
              " 'Al Quran Al karim': 1000000.0,\n",
              " 'Koran Read &MP3 30 Juz Offline': 1000000.0,\n",
              " 'Hafizi Quran 15 lines per page': 1000000.0,\n",
              " 'Satellite AR': 1000000.0,\n",
              " 'Oxford A-Z of English Usage': 1000000.0,\n",
              " 'Brilliant Quotes: Life, Love, Family & Motivation': 1000000.0,\n",
              " 'Stats Royale for Clash Royale': 1000000.0,\n",
              " 'wikiHow: how to do anything': 1000000.0,\n",
              " 'EGW Writings': 1000000.0,\n",
              " 'My Little Pony AR Guide': 1000000.0,\n",
              " 'English Grammar Complete Handbook': 500000.0,\n",
              " 'Offline: English to Tagalog Dictionary': 500000.0,\n",
              " 'Recipes of Prophetic Medicine for free': 500000.0,\n",
              " 'English to Urdu Dictionary': 500000.0,\n",
              " 'English Persian Dictionary': 500000.0,\n",
              " 'Flybook': 500000.0,\n",
              " 'Only 30 days in English, the guideline is guaranteed': 500000.0,\n",
              " 'Azpen eReader': 500000.0,\n",
              " 'Google I/O 2018': 500000.0,\n",
              " 'Al Quran (Tafsir & by Word)': 500000.0,\n",
              " 'Al-Quran 30 Juz free copies': 500000.0,\n",
              " 'Youboox - Livres, BD et magazines': 500000.0,\n",
              " 'NOOK Audiobooks': 500000.0,\n",
              " 'NOOK App for NOOK Devices': 500000.0,\n",
              " 'SDA Sabbath School Quarterly': 500000.0,\n",
              " 'Golden Dictionary (FR-AR)': 500000.0,\n",
              " 'Download free book with green book': 100000.0,\n",
              " 'Free Panda Radio Music': 100000.0,\n",
              " 'Offline English Dictionary': 100000.0,\n",
              " 'Litnet - E-books': 100000.0,\n",
              " 'English translation from Bengali': 100000.0,\n",
              " 'Pdf Book Download - Read Pdf Book': 100000.0,\n",
              " 'Free Book Reader': 100000.0,\n",
              " 'URBANO V 02 instruction manual': 100000.0,\n",
              " 'Aab e Hayat Full Novel': 100000.0,\n",
              " 'V Made': 100000.0,\n",
              " 'Guide (for X-MEN)': 100000.0,\n",
              " 'Surah Al-Waqiah': 100000.0,\n",
              " 'Hisnul Al Muslim - Hisn Invocations & Adhkaar': 100000.0,\n",
              " 'cloudLibrary': 100000.0,\n",
              " 'Sabbath School': 100000.0,\n",
              " 'How to Write CV': 100000.0,\n",
              " 'EGW Writings 2': 100000.0,\n",
              " 'Bible with EGW Comments': 100000.0,\n",
              " 'Hymnes et Louanges': 100000.0,\n",
              " 'BakaReader EX': 100000.0,\n",
              " 'E-Book Read - Read Book for free': 50000.0,\n",
              " 'eBoox new: Reader for fb2 epub zip books': 50000.0,\n",
              " \"SH-02J Owner's Manual (Android 8.0)\": 50000.0,\n",
              " 'C Programs and Reference': 50000.0,\n",
              " 'C Programs Handbook': 50000.0,\n",
              " 'Fertilizer Removal By Crop': 50000.0,\n",
              " 'Al-Muhaffiz': 50000.0,\n",
              " 'Bible du Semeur-BDS (French)': 50000.0,\n",
              " 'La citadelle du musulman': 50000.0,\n",
              " 'DV 2019 - EDV Photo & Form': 50000.0,\n",
              " 'EZ Quran': 50000.0,\n",
              " 'Anonymous caller detection': 10000.0,\n",
              " 'R Language Reference Guide': 10000.0,\n",
              " 'Ae Allah na Dai (Rasa)': 10000.0,\n",
              " 'Ag PhD Field Guide': 10000.0,\n",
              " 'Ag PhD Deficiencies': 10000.0,\n",
              " \"Kinot & Eichah for Tisha B'Av\": 10000.0,\n",
              " 'Ay Hasnain k Nana Milad Naat': 10000.0,\n",
              " 'Ay Mohabbat Teri Khatir Novel': 10000.0,\n",
              " 'BD All Sim Offer': 10000.0,\n",
              " 'B&H Kids AR': 10000.0,\n",
              " 'Borneo Bible, BM Bible': 10000.0,\n",
              " 'BR Ambedkar Biography & Quotes': 10000.0,\n",
              " 'Kristian Hla Bu': 10000.0,\n",
              " 'Bootable Methods(USB-CD-DVD)': 10000.0,\n",
              " 'Easy Cv maker 2018': 10000.0,\n",
              " 'Guide for DB Xenoverse': 10000.0,\n",
              " 'Guide for DB Xenoverse 2': 10000.0,\n",
              " 'DM Screen': 10000.0,\n",
              " 'DV 2019 Entry Guide': 10000.0,\n",
              " 'TN Patta Citta & EC': 10000.0,\n",
              " 'AP Stamps and Registration': 10000.0,\n",
              " 'English To Shona Dictionary': 10000.0,\n",
              " 'Bulgarian French Dictionary Fr': 10000.0,\n",
              " 'Learn R Programming Full': 5000.0,\n",
              " 'AC Air condition Troubleshoot,Repair,Maintenance': 5000.0,\n",
              " 'AW Tozer Devotionals - Daily': 5000.0,\n",
              " 'AY Sing': 5000.0,\n",
              " 'B y H Niños ES': 5000.0,\n",
              " 'Browsery by Barnes & Noble': 5000.0,\n",
              " 'CA Laws 2018 (California Laws and Codes)': 5000.0,\n",
              " 'Learn CT Scan Of Head': 5000.0,\n",
              " 'DC HSEMA': 5000.0,\n",
              " 'Bilingual Dictionary Audio App': 5000.0,\n",
              " 'EC - AP & Telangana': 5000.0,\n",
              " 'Duaa Ek Ibaadat': 5000.0,\n",
              " 'FA Part 1 & 2 Past Papers Solved Free – Offline': 5000.0,\n",
              " 'Fanfic-FR': 5000.0,\n",
              " 'C Offline Tutorial': 1000.0,\n",
              " 'R Programing Offline Tutorial': 1000.0,\n",
              " 'R Quick Reference Big Data': 1000.0,\n",
              " 'AE Bulletins': 1000.0,\n",
              " 'Ag PhD Planting Population Calculator': 1000.0,\n",
              " 'Ag PhD Soybean Diseases': 1000.0,\n",
              " 'Tozer Devotional -Series 1': 1000.0,\n",
              " 'The Pursuit of God': 1000.0,\n",
              " 'Arizona Statutes, ARS (AZ Law)': 1000.0,\n",
              " 'BD Fishpedia': 1000.0,\n",
              " 'BM Box': 1000.0,\n",
              " 'bp e-store': 1000.0,\n",
              " 'SA HLA BU': 1000.0,\n",
              " 'CW Nuclear': 1000.0,\n",
              " 'DC Public Library': 1000.0,\n",
              " 'Painting Lulu DC Super Friends': 1000.0,\n",
              " 'Fix Error Google Playstore': 1000.0,\n",
              " 'D. H. Lawrence Poems FREE': 1000.0,\n",
              " \"Dr. Doug's Tips\": 1000.0,\n",
              " 'DV 2018 Winners Guide': 1000.0,\n",
              " 'EB Annual Meetings': 1000.0,\n",
              " 'EP Research Service': 1000.0,\n",
              " 'EU Charter': 1000.0,\n",
              " 'EU Data Protection': 1000.0,\n",
              " 'La Fe de Jesus': 1000.0,\n",
              " 'Florida - Pocket Brainbook': 1000.0,\n",
              " 'Florida Statutes (FL Code)': 1000.0,\n",
              " 'Greek Bible FP (Audio)': 1000.0,\n",
              " 'Chemin (fr)': 1000.0,\n",
              " 'The SCP Foundation DB fr nn5n': 1000.0,\n",
              " 'Catholic La Bu Zo Kam': 500.0,\n",
              " 'Learn SAP BW': 500.0,\n",
              " 'Learn SAP BW on HANA': 500.0,\n",
              " 'SDA Collegiate Quarterly': 500.0,\n",
              " 'Modlitební knížka CZ': 500.0,\n",
              " 'La Fe de Jesús': 500.0,\n",
              " 'Le Fe de Jesus': 500.0,\n",
              " 'MOD Black for BM': 100.0,\n",
              " 'Anime Mod for BM': 100.0,\n",
              " 'BU Alsace': 100.0,\n",
              " 'Cypress College Library': 100.0,\n",
              " 'CompactiMa EC pH Calibration': 100.0,\n",
              " 'EU IP Codes': 100.0,\n",
              " 'A-J Media Vault': 50.0,\n",
              " 'GATE 21 years CS Papers(2011-2018 Solved)': 50.0,\n",
              " 'Learn R Programming': 10.0,\n",
              " 'Khrifa Hla Bu (Solfa)': 10.0,\n",
              " 'CY Spray nozzle': 10.0,\n",
              " 'Guide for IMS DB': 10.0,\n",
              " 'Guide for R Programming': 5.0,\n",
              " 'BibleRead En Cy Zh Yue': 5.0,\n",
              " 'CZ-Help': 5.0,\n",
              " 'EW PDF': 5.0}"
            ]
          },
          "metadata": {},
          "execution_count": 43
        }
      ]
    },
    {
      "cell_type": "markdown",
      "source": [
        "According to the above information, we can see the same pattern in the Apple dataset for popular genres. Giant companies and Apps dominate the number of installs and they skew the average data. However, in the 'BOOKS_AND_REFERENCE' genre we can see the number of installs is less skewed and it shows us the opportunity for introducing a new App. We can get new ideas about new Apps by exploring the Apps in this genre and see how the main trend of Apps is in this genre."
      ],
      "metadata": {
        "id": "Gmzz897GWRaG"
      }
    },
    {
      "cell_type": "markdown",
      "source": [
        "##**Conclusion**\n",
        "In this project, we tried to analyze data about the App Store and Google Play mobile apps to recommend an app profile that can be profitable for both markets.\n",
        "It seems that taking a popular book and turning it into an app could be profitable for both the Google Play and the App Store markets. We can add some other features to this App. This might include daily quotes from the book, an audio version of the book, quizzes on the book, a forum where people can discuss the book, etc."
      ],
      "metadata": {
        "id": "GLcUDKShXV7O"
      }
    },
    {
      "cell_type": "markdown",
      "source": [
        "##**Refrences**\n",
        "Guided project page:\n",
        "\n",
        "https://www.dataquest.io/projects/guided-project-a-profitable-app-profiles-for-the-app-store-and-google-play-markets-2/\n",
        "\n",
        "Datasets:\n",
        "\n",
        "1- Google Play Store Apps:\n",
        "https://www.kaggle.com/datasets/lava18/google-play-store-apps\n",
        "\n",
        "2- IOS App Store:\n",
        "https://www.kaggle.com/datasets/ramamet4/app-store-apple-data-set-10k-apps"
      ],
      "metadata": {
        "id": "w5yYFn6dosUi"
      }
    }
  ]
}