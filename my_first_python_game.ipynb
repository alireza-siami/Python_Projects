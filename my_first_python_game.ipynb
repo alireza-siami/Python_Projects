{
  "cells": [
    {
      "cell_type": "markdown",
      "metadata": {
        "id": "view-in-github",
        "colab_type": "text"
      },
      "source": [
        "<a href=\"https://colab.research.google.com/github/alireza-siami/Python_Projects/blob/DATAQUEST's-Projects/my_first_python_game.ipynb\" target=\"_parent\"><img src=\"https://colab.research.google.com/assets/colab-badge.svg\" alt=\"Open In Colab\"/></a>"
      ]
    },
    {
      "cell_type": "markdown",
      "source": [
        "# **My First Python Game**"
      ],
      "metadata": {
        "id": "qx2Gf_F10hp-"
      }
    },
    {
      "cell_type": "markdown",
      "source": [
        "## **Import necessary library**"
      ],
      "metadata": {
        "id": "WcFS1vQV3LJo"
      }
    },
    {
      "cell_type": "code",
      "source": [
        "import random\n",
        "g = 'My Game'"
      ],
      "metadata": {
        "id": "XlrQWOFwSDbm"
      },
      "execution_count": 40,
      "outputs": []
    },
    {
      "cell_type": "markdown",
      "source": [
        "##**Read the words**"
      ],
      "metadata": {
        "id": "xPnJnWf63wPN"
      }
    },
    {
      "cell_type": "code",
      "source": [
        "word_list = []\n",
        "with open('words.txt') as f:\n",
        "  for line in f:\n",
        "    word_list.append(line.rstrip().lower())\n",
        "\n",
        "word_list"
      ],
      "metadata": {
        "colab": {
          "base_uri": "https://localhost:8080/"
        },
        "id": "tZubEszySPTz",
        "outputId": "60d028a6-284e-4c9c-8e20-23d207b806b4"
      },
      "execution_count": 41,
      "outputs": [
        {
          "output_type": "execute_result",
          "data": {
            "text/plain": [
              "['bears', 'pears', 'lions', 'kings', 'queen', 'helps', 'learn']"
            ]
          },
          "metadata": {},
          "execution_count": 41
        }
      ]
    },
    {
      "cell_type": "markdown",
      "source": [
        "##**Select a word to guess**"
      ],
      "metadata": {
        "id": "uFZ2yarn4Mdh"
      }
    },
    {
      "cell_type": "code",
      "source": [
        "word = random.choice(word_list)\n",
        "word"
      ],
      "metadata": {
        "colab": {
          "base_uri": "https://localhost:8080/",
          "height": 36
        },
        "id": "OU6cqBO0TrHL",
        "outputId": "9c8b630a-bb72-459a-dbcc-acba982eb309"
      },
      "execution_count": 43,
      "outputs": [
        {
          "output_type": "execute_result",
          "data": {
            "text/plain": [
              "'bears'"
            ],
            "application/vnd.google.colaboratory.intrinsic+json": {
              "type": "string"
            }
          },
          "metadata": {},
          "execution_count": 43
        }
      ]
    },
    {
      "cell_type": "markdown",
      "source": [
        "##**Define turns variables**"
      ],
      "metadata": {
        "id": "eCnO-x_L4b0x"
      }
    },
    {
      "cell_type": "code",
      "source": [
        "# Prompt the message to get the max turns that the player want to set\n",
        "max_turns = int(input(f'Set the max turns that you prefer to guess (the correct word length is {len(word)})'))\n",
        "turns = 0"
      ],
      "metadata": {
        "colab": {
          "base_uri": "https://localhost:8080/"
        },
        "id": "aqiLfSI4T4X8",
        "outputId": "275c0765-8d50-4f92-98f2-4e7eceee6823"
      },
      "execution_count": 71,
      "outputs": [
        {
          "name": "stdout",
          "output_type": "stream",
          "text": [
            "Set the max turns that you prefer to guess (the correct word length is 5)5\n"
          ]
        }
      ]
    },
    {
      "cell_type": "markdown",
      "source": [
        "##**Welcome notes**"
      ],
      "metadata": {
        "id": "nxZNIg795chQ"
      }
    },
    {
      "cell_type": "code",
      "source": [
        "print(f'Welcome to {g}')\n",
        "print(f'There are {len(word)} letters in the word to guess.')\n",
        "print(f'You have {max_turns - turns} turns left to guess!')"
      ],
      "metadata": {
        "colab": {
          "base_uri": "https://localhost:8080/"
        },
        "id": "c96qmJIRUxET",
        "outputId": "2d8d2c79-ef57-429a-9f1d-9fcf2d8cc527"
      },
      "execution_count": 72,
      "outputs": [
        {
          "output_type": "stream",
          "name": "stdout",
          "text": [
            "Welcome to My Game\n",
            "There are 5 letters in the word to guess.\n",
            "You have 5 turns left to guess!\n"
          ]
        }
      ]
    },
    {
      "cell_type": "markdown",
      "source": [
        "##**Main code**"
      ],
      "metadata": {
        "id": "PXcp2GaO51JK"
      }
    },
    {
      "cell_type": "code",
      "source": [
        "# Define the proper variables\n",
        "incorrect_place = []\n",
        "incorrect = []\n",
        "turns = 0\n",
        "\n",
        "for i in range(max_turns):\n",
        "  # Get player's guess\n",
        "  guess = input('What is your guess?')\n",
        "  guess = guess.lower()\n",
        "\n",
        "  # Check the guess to be all alpha letters\n",
        "  if not guess.isalpha():\n",
        "    guess = input('Error: The input is not alphabetic! Enter another guess?')\n",
        "\n",
        "  # Check the lenght of guess to be equal or less than lenght of the word\n",
        "  if len(guess)>len(word):\n",
        "    guess = input(f'Error: The length of {guess} is bigger than {len(word)}! Enter another guess?')\n",
        "\n",
        "  # Check the guess is correct or not\n",
        "  if guess == word:\n",
        "    print('\\nWao!!!! your guess is correct.')\n",
        "    break\n",
        "\n",
        "  # Iterate over guess's letters to see they are correct or not\n",
        "  correct = str()\n",
        "  for l in range(len(guess)):\n",
        "    if guess[l] == word[l]:\n",
        "      correct = correct+guess[l]\n",
        "      if guess[l] in incorrect_place:\n",
        "        incorrect_place.remove(guess[l])\n",
        "    elif guess[l] in word:\n",
        "      if guess[l] not in incorrect_place:\n",
        "        incorrect_place.append(guess[l])\n",
        "      correct = correct + '_'\n",
        "    else:\n",
        "      if guess[l] not in incorrect:\n",
        "        incorrect.append(guess[l])\n",
        "      correct = correct + '_'\n",
        "\n",
        "  # Give information about the coorectness of the guess to the player\n",
        "  print(correct)\n",
        "  print(f'Incorrect misplaced letters or letter are {incorrect_place}')\n",
        "  print(f'Incorrect letters or letter are {incorrect}')\n",
        "  turns = turns+1\n",
        "  print(f'You have {max_turns-turns} turns left.')\n",
        "\n",
        "  # Check if the player has lost\n",
        "  if max_turns-turns == 0:\n",
        "    print(f'\\nOh sorry, you losed. The word is {word}')"
      ],
      "metadata": {
        "colab": {
          "base_uri": "https://localhost:8080/"
        },
        "id": "aGthC2jUU8wB",
        "outputId": "7499edbb-a133-4cdc-cf3c-05f3b997e4ce"
      },
      "execution_count": 74,
      "outputs": [
        {
          "output_type": "stream",
          "name": "stdout",
          "text": [
            "What is your guess?m\n",
            "_\n",
            "Incorrect misplaced letters or letter are []\n",
            "Incorrect letters or letter are ['m']\n",
            "You have 4 turns left.\n",
            "What is your guess?be\n",
            "be\n",
            "Incorrect misplaced letters or letter are []\n",
            "Incorrect letters or letter are ['m']\n",
            "You have 3 turns left.\n",
            "What is your guess?beer\n",
            "be_r\n",
            "Incorrect misplaced letters or letter are ['e']\n",
            "Incorrect letters or letter are ['m']\n",
            "You have 2 turns left.\n",
            "What is your guess?bear\n",
            "bear\n",
            "Incorrect misplaced letters or letter are []\n",
            "Incorrect letters or letter are ['m']\n",
            "You have 1 turns left.\n",
            "What is your guess?bears\n",
            "\n",
            "Wao!!!! your guess is correct.\n"
          ]
        }
      ]
    },
    {
      "cell_type": "code",
      "source": [],
      "metadata": {
        "id": "oi3ufNTRdkWG"
      },
      "execution_count": 73,
      "outputs": []
    }
  ],
  "metadata": {
    "colab": {
      "provenance": [],
      "toc_visible": true,
      "authorship_tag": "ABX9TyPKlg2om2p5p+NjKzymPxK4",
      "include_colab_link": true
    },
    "kernelspec": {
      "display_name": "Python 3",
      "name": "python3"
    },
    "language_info": {
      "name": "python"
    }
  },
  "nbformat": 4,
  "nbformat_minor": 0
}