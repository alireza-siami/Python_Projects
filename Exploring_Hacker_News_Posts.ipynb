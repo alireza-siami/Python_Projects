{
  "nbformat": 4,
  "nbformat_minor": 0,
  "metadata": {
    "colab": {
      "provenance": [],
      "authorship_tag": "ABX9TyNvmNiLyKLjNCODEXbk74f/",
      "include_colab_link": true
    },
    "kernelspec": {
      "name": "python3",
      "display_name": "Python 3"
    },
    "language_info": {
      "name": "python"
    }
  },
  "cells": [
    {
      "cell_type": "markdown",
      "metadata": {
        "id": "view-in-github",
        "colab_type": "text"
      },
      "source": [
        "<a href=\"https://colab.research.google.com/github/alireza-siami/Python_Projects/blob/DATAQUEST's-Projects/Exploring_Hacker_News_Posts.ipynb\" target=\"_parent\"><img src=\"https://colab.research.google.com/assets/colab-badge.svg\" alt=\"Open In Colab\"/></a>"
      ]
    },
    {
      "cell_type": "markdown",
      "source": [
        "#**Exploring Hacker News Posts**\n",
        "In this project, I will follow the guided project by DATAQUEST as 'Exploring Hackers News Posts'. Its goal is to compare two different types of posts from Hacker News. The two types of posts we'll explore begin with either Ask HN or Show HN.\n",
        "\n",
        "Users submit Ask HN posts to ask the Hacker News community a specific question and Show HN posts to show the Hacker News community a project, product, or just generally something interesting.\n",
        "\n",
        "We'll specifically compare these two types of posts to determine the following:\n",
        "\n",
        "Do Ask HN or Show HN receive more comments on average?\n",
        "\n",
        "Do posts created at a certain time receive more comments on average?\n",
        "\n",
        "The dataset we use is from the Kaggle site and it has 300,000 rows. Still, in this guided project it has been reduced to approximately 20,000 rows by removing all submissions that did not receive any comments, and then randomly sampling from the remaining submissions."
      ],
      "metadata": {
        "id": "o9NQUu3W0_z6"
      }
    },
    {
      "cell_type": "code",
      "source": [
        "import datetime as dt\n",
        "from csv import reader"
      ],
      "metadata": {
        "id": "yVnX6Qya1JVz"
      },
      "execution_count": 26,
      "outputs": []
    },
    {
      "cell_type": "code",
      "source": [
        "# read data as a list\n",
        "hacker_news_file = open('hacker_news.csv')\n",
        "hacker_news_csv = reader(hacker_news_file)\n",
        "hacker_news = list(hacker_news_csv)\n",
        "hacker_news[:2]"
      ],
      "metadata": {
        "colab": {
          "base_uri": "https://localhost:8080/"
        },
        "id": "YcUWjUfK1QRF",
        "outputId": "a2bdedc0-9220-4ff8-f570-0bda86151c00"
      },
      "execution_count": 5,
      "outputs": [
        {
          "output_type": "execute_result",
          "data": {
            "text/plain": [
              "[['id', 'title', 'url', 'num_points', 'num_comments', 'author', 'created_at'],\n",
              " ['12224879',\n",
              "  'Interactive Dynamic Video',\n",
              "  'http://www.interactivedynamicvideo.com/',\n",
              "  '386',\n",
              "  '52',\n",
              "  'ne0phyte',\n",
              "  '8/4/2016 11:52']]"
            ]
          },
          "metadata": {},
          "execution_count": 5
        }
      ]
    },
    {
      "cell_type": "code",
      "source": [
        "# remove header from data\n",
        "header = hacker_news[:1]\n",
        "hacker_news = hacker_news[1:]"
      ],
      "metadata": {
        "id": "SpdysPNv1zrH"
      },
      "execution_count": 6,
      "outputs": []
    },
    {
      "cell_type": "code",
      "source": [
        "print(header,'\\n')\n",
        "\n",
        "for i in range(8):\n",
        "  print(hacker_news[i],'\\n')"
      ],
      "metadata": {
        "colab": {
          "base_uri": "https://localhost:8080/"
        },
        "id": "zAPxspLN2eCI",
        "outputId": "7cba78c9-ae8a-4886-9b3d-fee6a802cd67"
      },
      "execution_count": 12,
      "outputs": [
        {
          "output_type": "stream",
          "name": "stdout",
          "text": [
            "[['id', 'title', 'url', 'num_points', 'num_comments', 'author', 'created_at']] \n",
            "\n",
            "['12224879', 'Interactive Dynamic Video', 'http://www.interactivedynamicvideo.com/', '386', '52', 'ne0phyte', '8/4/2016 11:52'] \n",
            "\n",
            "['10975351', 'How to Use Open Source and Shut the Fuck Up at the Same Time', 'http://hueniverse.com/2016/01/26/how-to-use-open-source-and-shut-the-fuck-up-at-the-same-time/', '39', '10', 'josep2', '1/26/2016 19:30'] \n",
            "\n",
            "['11964716', \"Florida DJs May Face Felony for April Fools' Water Joke\", 'http://www.thewire.com/entertainment/2013/04/florida-djs-april-fools-water-joke/63798/', '2', '1', 'vezycash', '6/23/2016 22:20'] \n",
            "\n",
            "['11919867', 'Technology ventures: From Idea to Enterprise', 'https://www.amazon.com/Technology-Ventures-Enterprise-Thomas-Byers/dp/0073523429', '3', '1', 'hswarna', '6/17/2016 0:01'] \n",
            "\n",
            "['10301696', 'Note by Note: The Making of Steinway L1037 (2007)', 'http://www.nytimes.com/2007/11/07/movies/07stein.html?_r=0', '8', '2', 'walterbell', '9/30/2015 4:12'] \n",
            "\n",
            "['10482257', 'Title II kills investment? Comcast and other ISPs are now spending more', 'http://arstechnica.com/business/2015/10/comcast-and-other-isps-boost-network-investment-despite-net-neutrality/', '53', '22', 'Deinos', '10/31/2015 9:48'] \n",
            "\n",
            "['10557283', 'Nuts and Bolts Business Advice', '', '3', '4', 'shomberj', '11/13/2015 0:45'] \n",
            "\n",
            "['12296411', 'Ask HN: How to improve my personal website?', '', '2', '6', 'ahmedbaracat', '8/16/2016 9:55'] \n",
            "\n"
          ]
        }
      ]
    },
    {
      "cell_type": "markdown",
      "source": [
        "##**Extracting Ask HN and Show HN Posts**\n",
        "Since we are interesting for posts that start with 'Ask HN' and 'Show HN', we first save these posts in two different lists. By exploring data, we can notice that 'Ask HN' and 'Show HN' phrases come in the title columns of data. Since it is possible to have them in lowercase, first we lowercase all the posts."
      ],
      "metadata": {
        "id": "adC14Eul44DX"
      }
    },
    {
      "cell_type": "code",
      "source": [
        "# extract Ask HN and Show HN posts\n",
        "ask = [] # define a list for Ask HN posts\n",
        "show = [] # define a post for Show HN posts\n",
        "other = []\n",
        "\n",
        "for row in hacker_news:\n",
        "  post = row[1].lower()\n",
        "  if post.startswith('ask hn'):\n",
        "    ask.append(row)\n",
        "  elif post.startswith('show hn'):\n",
        "    show.append(row)\n",
        "  else:\n",
        "    other.append(row)\n"
      ],
      "metadata": {
        "id": "VEnvZ_Jf3oSs"
      },
      "execution_count": 17,
      "outputs": []
    },
    {
      "cell_type": "code",
      "source": [
        "print(ask[:2])\n",
        "print(show[:2])"
      ],
      "metadata": {
        "colab": {
          "base_uri": "https://localhost:8080/"
        },
        "id": "rwmlNyRl8Eb2",
        "outputId": "c657282c-8913-4b14-b51b-e45c6ecbcddf"
      },
      "execution_count": 18,
      "outputs": [
        {
          "output_type": "stream",
          "name": "stdout",
          "text": [
            "[['12296411', 'Ask HN: How to improve my personal website?', '', '2', '6', 'ahmedbaracat', '8/16/2016 9:55'], ['10610020', 'Ask HN: Am I the only one outraged by Twitter shutting down share counts?', '', '28', '29', 'tkfx', '11/22/2015 13:43']]\n",
            "[['10627194', 'Show HN: Wio Link  ESP8266 Based Web of Things Hardware Development Platform', 'https://iot.seeed.cc', '26', '22', 'kfihihc', '11/25/2015 14:03'], ['10646440', 'Show HN: Something pointless I made', 'http://dn.ht/picklecat/', '747', '102', 'dhotson', '11/29/2015 22:46']]\n"
          ]
        }
      ]
    },
    {
      "cell_type": "code",
      "source": [
        "print(f'Number of Ask HN posts : {len(ask)}')\n",
        "print(f'Number of Show HN posts : {len(show)}')\n",
        "print(f'Number of other posts : {len(other)}')"
      ],
      "metadata": {
        "colab": {
          "base_uri": "https://localhost:8080/"
        },
        "id": "F3qWL2Mk8diB",
        "outputId": "69cbc63f-347a-470c-b1f2-2c9c351ad6ba"
      },
      "execution_count": 19,
      "outputs": [
        {
          "output_type": "stream",
          "name": "stdout",
          "text": [
            "Number of Ask HN posts : 1744\n",
            "Number of Show HN posts : 1162\n",
            "Number of other posts : 17194\n"
          ]
        }
      ]
    },
    {
      "cell_type": "markdown",
      "source": [
        "##**Calculating the average number of comments for Ask HN and Show HN posts**\n",
        "For each list, we calculate the average number of comments to find out which one is more popular('Ask HN' or 'Show HN')."
      ],
      "metadata": {
        "id": "bbpEPO_l9vu1"
      }
    },
    {
      "cell_type": "code",
      "source": [
        "# define a function to get the avreage number of comments\n",
        "def avg_comments(dataset,index): # index identify the columns of comments in the dataset\n",
        "  comments = 0\n",
        "  n = 0\n",
        "  for row in dataset:\n",
        "    n += 1\n",
        "    comments += int(row[4])\n",
        "  return(comments/n)"
      ],
      "metadata": {
        "id": "_MZ8KpRz9Vfp"
      },
      "execution_count": 23,
      "outputs": []
    },
    {
      "cell_type": "code",
      "source": [
        "avg_ask_comments = avg_comments(ask,4)\n",
        "avg_show_comments = avg_comments(show,4)\n",
        "print(f'Average number of comments for Ask HN posts : {avg_ask_comments}')\n",
        "print(f'Average number of comments for Show HN posts : {avg_show_comments}')"
      ],
      "metadata": {
        "colab": {
          "base_uri": "https://localhost:8080/"
        },
        "id": "Gh2YP1fQ_25i",
        "outputId": "4596b30a-2e57-442f-e24f-5220dc26b6fd"
      },
      "execution_count": 24,
      "outputs": [
        {
          "output_type": "stream",
          "name": "stdout",
          "text": [
            "Average number of comments for Ask HN posts : 14.038417431192661\n",
            "Average number of comments for Show HN posts : 10.31669535283993\n"
          ]
        }
      ]
    },
    {
      "cell_type": "markdown",
      "source": [
        "From the above, it is clear that Ask HN posts are more popular among users and attract more comments. Hence, we continue our analysis with these posts."
      ],
      "metadata": {
        "id": "uPxcztt9g4VW"
      }
    },
    {
      "cell_type": "markdown",
      "source": [
        "##**Finding the number of Ask posts and comments by hour created**"
      ],
      "metadata": {
        "id": "rFck_DxvF3Mt"
      }
    },
    {
      "cell_type": "code",
      "source": [
        "date_1_str = \"December 24, 1984\"\n",
        "s = '11/22/2015 13:43'\n",
        "date_1_dt = dt.datetime.strptime(s, \"%m/%d/%Y %H:%M\")\n",
        "print(date_1_dt.hour)"
      ],
      "metadata": {
        "colab": {
          "base_uri": "https://localhost:8080/"
        },
        "id": "i8vad9XTBAwF",
        "outputId": "1ef1c79a-b549-402d-b600-fd40d429b63b"
      },
      "execution_count": 34,
      "outputs": [
        {
          "output_type": "stream",
          "name": "stdout",
          "text": [
            "13\n"
          ]
        }
      ]
    },
    {
      "cell_type": "code",
      "source": [
        "ask_hour = {} # number of Ask HN posts in each hour\n",
        "comments_hour = {} # number of comments for Ask HN post in each hour\n",
        "format = '%m/%d/%Y %H:%M' # format the time of post at 'created at' column\n",
        "\n",
        "for row in ask:\n",
        "  time = row[-1] # 'created_at' is the last column\n",
        "  time = dt.datetime.strptime(time,format)\n",
        "  hour = time.hour\n",
        "  comments = int(row[4])\n",
        "  if hour in ask_hour:\n",
        "    ask_hour[hour] += 1\n",
        "    comments_hour[hour] += comments\n",
        "  else:\n",
        "    ask_hour[hour] = 1\n",
        "    comments_hour[hour] = comments\n",
        "\n",
        "ask_hour_sorted = {k:v for k,v in sorted(ask_hour.items(), key= lambda item:item[0])} # sort ask_hour based on hour\n",
        "comments_hour_sorted = {k:v for k,v in sorted(comments_hour.items(), key= lambda item:item[0])} # sort cooments_hour based on hour\n",
        "\n",
        "print(f'Number of Ask HN posts in each hour\\n {ask_hour_sorted}\\n')\n",
        "print(f'Number of Ask HN comments in each hour\\n {comments_hour_sorted}')"
      ],
      "metadata": {
        "colab": {
          "base_uri": "https://localhost:8080/"
        },
        "id": "uSYIkSJKJKWv",
        "outputId": "0cb4ac49-b57b-4e66-ad41-c0ce9b3656ea"
      },
      "execution_count": 42,
      "outputs": [
        {
          "output_type": "stream",
          "name": "stdout",
          "text": [
            "Number of Ask HN posts in each hour\n",
            " {0: 55, 1: 60, 2: 58, 3: 54, 4: 47, 5: 46, 6: 44, 7: 34, 8: 48, 9: 45, 10: 59, 11: 58, 12: 73, 13: 85, 14: 107, 15: 116, 16: 108, 17: 100, 18: 109, 19: 110, 20: 80, 21: 109, 22: 71, 23: 68}\n",
            "\n",
            "Number of Ask HN comments in each hour\n",
            " {0: 447, 1: 683, 2: 1381, 3: 421, 4: 337, 5: 464, 6: 397, 7: 267, 8: 492, 9: 251, 10: 793, 11: 641, 12: 687, 13: 1253, 14: 1416, 15: 4477, 16: 1814, 17: 1146, 18: 1439, 19: 1188, 20: 1722, 21: 1745, 22: 479, 23: 543}\n"
          ]
        }
      ]
    },
    {
      "cell_type": "markdown",
      "source": [
        "##**Calculating the average number of comments for Ask HN posts by hour**"
      ],
      "metadata": {
        "id": "hZgz-j5NULp2"
      }
    },
    {
      "cell_type": "code",
      "source": [
        "avg_comments_hour = {} # average number of comments for Ask HN posts by hour\n",
        "\n",
        "for hour,n in ask_hour_sorted.items():\n",
        "  avg_comments_hour[hour] = comments_hour_sorted[hour]/n\n",
        "\n",
        "avg_comments_hour_sorted = {k:v for k,v in sorted(avg_comments_hour.items(), key= lambda item:item[1], reverse= True)}\n",
        "\n",
        "n = 0\n",
        "for hour,avg in avg_comments_hour_sorted.items():\n",
        "  n += 1\n",
        "  print(f\"{dt.datetime.strptime(str(hour), '%H').strftime('%H:%M')} : {avg:.2f} average comments per post\")\n",
        "  if n == 5:\n",
        "    break\n"
      ],
      "metadata": {
        "colab": {
          "base_uri": "https://localhost:8080/"
        },
        "id": "c2BW5AvtPJRe",
        "outputId": "04a4b439-e816-453c-8428-35c8a6b68878"
      },
      "execution_count": 65,
      "outputs": [
        {
          "output_type": "stream",
          "name": "stdout",
          "text": [
            "15:00 : 38.59 average comments per post\n",
            "02:00 : 23.81 average comments per post\n",
            "20:00 : 21.52 average comments per post\n",
            "16:00 : 16.80 average comments per post\n",
            "21:00 : 16.01 average comments per post\n"
          ]
        }
      ]
    },
    {
      "cell_type": "markdown",
      "source": [
        "From the above information, we can notice that the 5 most average comments by hours are at '15', '2', '20', '16', and '21'. It seems that users mostly like to comment in their free time while they are not sleeping, mostly afternoons and evenings."
      ],
      "metadata": {
        "id": "sGyuUFltWWhY"
      }
    },
    {
      "cell_type": "markdown",
      "source": [
        "##**Conclusion**\n",
        "In this project, we analyzed ask posts and show posts to determine which type of post and time receive the most comments on average. Based on our analysis, to maximize the amount of comments a post receives, we'd recommend the post be categorized as ask post and created between 15:00 and 16:00 (3:00 pm est - 4:00 pm est).\n",
        "\n",
        "However, it should be noted that the data set we analyzed excluded posts without any comments. Given that, it's more accurate to say that of the posts that received comments, ask posts received more comments on average and ask posts created between 15:00 and 16:00 (3:00 pm est - 4:00 pm est) received the most comments on average."
      ],
      "metadata": {
        "id": "2JRDPU8EeMa-"
      }
    },
    {
      "cell_type": "markdown",
      "source": [
        "##**References**\n",
        "Guided project page:\n",
        "\n",
        "https://www.dataquest.io/projects/guided-project-a-exploring-hacker-news-posts-2/\n",
        "\n",
        "Dataset:\n",
        "\n",
        "https://www.kaggle.com/datasets/hacker-news/hacker-news-posts"
      ],
      "metadata": {
        "id": "2wGzpAGaectW"
      }
    }
  ]
}